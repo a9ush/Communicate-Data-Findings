{
 "cells": [
  {
   "cell_type": "markdown",
   "metadata": {},
   "source": [
    "# Visualizing FordGoBike Data\n",
    "## (2017)"
   ]
  },
  {
   "cell_type": "markdown",
   "metadata": {},
   "source": [
    "## Table of Contents\n",
    "\n",
    "    Preliminary Wrangling\n",
    "\n",
    "    Univariate Exploration\n",
    "\n",
    "    Bivariate Explorationn\n",
    "\n",
    "    Multivariate Exploration\n",
    "\n",
    "    Summary\n",
    "\n",
    "    Sources"
   ]
  },
  {
   "cell_type": "markdown",
   "metadata": {},
   "source": [
    "# Preliminary Wrangling"
   ]
  },
  {
   "cell_type": "code",
   "execution_count": 12,
   "metadata": {},
   "outputs": [],
   "source": [
    "#all package\n",
    "import numpy as np\n",
    "import pandas as pd\n",
    "import matplotlib.pyplot as plt\n",
    "%matplotlib inline\n",
    "import seaborn as sb\n",
    "import calendar\n",
    "import datetime"
   ]
  },
  {
   "cell_type": "markdown",
   "metadata": {},
   "source": [
    "**Loading in the dataset**"
   ]
  },
  {
   "cell_type": "code",
   "execution_count": 3,
   "metadata": {},
   "outputs": [],
   "source": [
    "#load data\n",
    "df=pd.read_csv('2017-fordgobike-tripdata.csv')"
   ]
  },
  {
   "cell_type": "code",
   "execution_count": 4,
   "metadata": {},
   "outputs": [
    {
     "data": {
      "text/html": [
       "<div>\n",
       "<style scoped>\n",
       "    .dataframe tbody tr th:only-of-type {\n",
       "        vertical-align: middle;\n",
       "    }\n",
       "\n",
       "    .dataframe tbody tr th {\n",
       "        vertical-align: top;\n",
       "    }\n",
       "\n",
       "    .dataframe thead th {\n",
       "        text-align: right;\n",
       "    }\n",
       "</style>\n",
       "<table border=\"1\" class=\"dataframe\">\n",
       "  <thead>\n",
       "    <tr style=\"text-align: right;\">\n",
       "      <th></th>\n",
       "      <th>duration_sec</th>\n",
       "      <th>start_time</th>\n",
       "      <th>end_time</th>\n",
       "      <th>start_station_id</th>\n",
       "      <th>start_station_name</th>\n",
       "      <th>start_station_latitude</th>\n",
       "      <th>start_station_longitude</th>\n",
       "      <th>end_station_id</th>\n",
       "      <th>end_station_name</th>\n",
       "      <th>end_station_latitude</th>\n",
       "      <th>end_station_longitude</th>\n",
       "      <th>bike_id</th>\n",
       "      <th>user_type</th>\n",
       "    </tr>\n",
       "  </thead>\n",
       "  <tbody>\n",
       "    <tr>\n",
       "      <th>0</th>\n",
       "      <td>80110</td>\n",
       "      <td>2017-12-31 16:57:39.6540</td>\n",
       "      <td>2018-01-01 15:12:50.2450</td>\n",
       "      <td>74</td>\n",
       "      <td>Laguna St at Hayes St</td>\n",
       "      <td>37.776435</td>\n",
       "      <td>-122.426244</td>\n",
       "      <td>43</td>\n",
       "      <td>San Francisco Public Library (Grove St at Hyde...</td>\n",
       "      <td>37.778768</td>\n",
       "      <td>-122.415929</td>\n",
       "      <td>96</td>\n",
       "      <td>Customer</td>\n",
       "    </tr>\n",
       "    <tr>\n",
       "      <th>1</th>\n",
       "      <td>78800</td>\n",
       "      <td>2017-12-31 15:56:34.8420</td>\n",
       "      <td>2018-01-01 13:49:55.6170</td>\n",
       "      <td>284</td>\n",
       "      <td>Yerba Buena Center for the Arts (Howard St at ...</td>\n",
       "      <td>37.784872</td>\n",
       "      <td>-122.400876</td>\n",
       "      <td>96</td>\n",
       "      <td>Dolores St at 15th St</td>\n",
       "      <td>37.766210</td>\n",
       "      <td>-122.426614</td>\n",
       "      <td>88</td>\n",
       "      <td>Customer</td>\n",
       "    </tr>\n",
       "  </tbody>\n",
       "</table>\n",
       "</div>"
      ],
      "text/plain": [
       "   duration_sec                start_time                  end_time  \\\n",
       "0         80110  2017-12-31 16:57:39.6540  2018-01-01 15:12:50.2450   \n",
       "1         78800  2017-12-31 15:56:34.8420  2018-01-01 13:49:55.6170   \n",
       "\n",
       "   start_station_id                                 start_station_name  \\\n",
       "0                74                              Laguna St at Hayes St   \n",
       "1               284  Yerba Buena Center for the Arts (Howard St at ...   \n",
       "\n",
       "   start_station_latitude  start_station_longitude  end_station_id  \\\n",
       "0               37.776435              -122.426244              43   \n",
       "1               37.784872              -122.400876              96   \n",
       "\n",
       "                                    end_station_name  end_station_latitude  \\\n",
       "0  San Francisco Public Library (Grove St at Hyde...             37.778768   \n",
       "1                              Dolores St at 15th St             37.766210   \n",
       "\n",
       "   end_station_longitude  bike_id user_type  \n",
       "0            -122.415929       96  Customer  \n",
       "1            -122.426614       88  Customer  "
      ]
     },
     "execution_count": 4,
     "metadata": {},
     "output_type": "execute_result"
    }
   ],
   "source": [
    "df.head(2)"
   ]
  },
  {
   "cell_type": "code",
   "execution_count": 6,
   "metadata": {},
   "outputs": [
    {
     "name": "stdout",
     "output_type": "stream",
     "text": [
      "<class 'pandas.core.frame.DataFrame'>\n",
      "RangeIndex: 519700 entries, 0 to 519699\n",
      "Data columns (total 13 columns):\n",
      "duration_sec               519700 non-null int64\n",
      "start_time                 519700 non-null object\n",
      "end_time                   519700 non-null object\n",
      "start_station_id           519700 non-null int64\n",
      "start_station_name         519700 non-null object\n",
      "start_station_latitude     519700 non-null float64\n",
      "start_station_longitude    519700 non-null float64\n",
      "end_station_id             519700 non-null int64\n",
      "end_station_name           519700 non-null object\n",
      "end_station_latitude       519700 non-null float64\n",
      "end_station_longitude      519700 non-null float64\n",
      "bike_id                    519700 non-null int64\n",
      "user_type                  519700 non-null object\n",
      "dtypes: float64(4), int64(4), object(5)\n",
      "memory usage: 51.5+ MB\n"
     ]
    }
   ],
   "source": [
    "# information of data\n",
    "df.info()"
   ]
  },
  {
   "cell_type": "code",
   "execution_count": 7,
   "metadata": {},
   "outputs": [
    {
     "data": {
      "text/plain": [
       "(519700, 13)"
      ]
     },
     "execution_count": 7,
     "metadata": {},
     "output_type": "execute_result"
    }
   ],
   "source": [
    "df.shape"
   ]
  },
  {
   "cell_type": "code",
   "execution_count": 7,
   "metadata": {},
   "outputs": [
    {
     "data": {
      "text/plain": [
       "0"
      ]
     },
     "execution_count": 7,
     "metadata": {},
     "output_type": "execute_result"
    }
   ],
   "source": [
    "# checking duplicate\n",
    "df.duplicated().sum()\n"
   ]
  },
  {
   "cell_type": "code",
   "execution_count": 9,
   "metadata": {},
   "outputs": [
    {
     "data": {
      "text/plain": [
       "duration_sec               0\n",
       "start_time                 0\n",
       "end_time                   0\n",
       "start_station_id           0\n",
       "start_station_name         0\n",
       "start_station_latitude     0\n",
       "start_station_longitude    0\n",
       "end_station_id             0\n",
       "end_station_name           0\n",
       "end_station_latitude       0\n",
       "end_station_longitude      0\n",
       "bike_id                    0\n",
       "user_type                  0\n",
       "dtype: int64"
      ]
     },
     "execution_count": 9,
     "metadata": {},
     "output_type": "execute_result"
    }
   ],
   "source": [
    "#null values\n",
    "df.isna().sum()\n"
   ]
  },
  {
   "cell_type": "markdown",
   "metadata": {},
   "source": [
    "# Cleaning\n",
    "    we need to clean our data like:-\n",
    "          .Starting and ending times to the timestamp format\n",
    "          .Bike ID, start station ID, and end station ID to object format\n",
    "          .User type to category format"
   ]
  },
  {
   "cell_type": "code",
   "execution_count": 15,
   "metadata": {},
   "outputs": [],
   "source": [
    "#making the copy of data so the original data remains unchanged\n",
    "df_cleaned=df.copy()"
   ]
  },
  {
   "cell_type": "code",
   "execution_count": 16,
   "metadata": {},
   "outputs": [],
   "source": [
    "# Changing the format to datetime\n",
    "df_cleaned.start_time = pd.to_datetime(df_cleaned.start_time)\n",
    "df_cleaned.end_time = pd.to_datetime(df_cleaned.end_time)\n"
   ]
  },
  {
   "cell_type": "code",
   "execution_count": 17,
   "metadata": {},
   "outputs": [],
   "source": [
    "# User type to category format\n",
    "df_cleaned['user_type ']=df_cleaned.user_type.astype('category')"
   ]
  },
  {
   "cell_type": "code",
   "execution_count": 18,
   "metadata": {},
   "outputs": [],
   "source": [
    "#Bike ID, start station ID, and end station ID to object format\n",
    "df_cleaned['bike_id ']=df_cleaned.bike_id.astype(str)\n",
    "df_cleaned['start_station_id  ']=df_cleaned.start_station_id .astype(str)\n",
    "df_cleaned['end_station_id ']=df_cleaned.end_station_id.astype(str)"
   ]
  },
  {
   "cell_type": "markdown",
   "metadata": {},
   "source": [
    "# Test"
   ]
  },
  {
   "cell_type": "code",
   "execution_count": 19,
   "metadata": {},
   "outputs": [
    {
     "name": "stdout",
     "output_type": "stream",
     "text": [
      "<class 'pandas.core.frame.DataFrame'>\n",
      "RangeIndex: 519700 entries, 0 to 519699\n",
      "Data columns (total 19 columns):\n",
      "duration_sec               519700 non-null int64\n",
      "start_time                 519700 non-null datetime64[ns]\n",
      "end_time                   519700 non-null datetime64[ns]\n",
      "start_station_id           519700 non-null int64\n",
      "start_station_name         519700 non-null object\n",
      "start_station_latitude     519700 non-null float64\n",
      "start_station_longitude    519700 non-null float64\n",
      "end_station_id             519700 non-null int64\n",
      "end_station_name           519700 non-null object\n",
      "end_station_latitude       519700 non-null float64\n",
      "end_station_longitude      519700 non-null float64\n",
      "bike_id                    519700 non-null int64\n",
      "user_type                  519700 non-null object\n",
      "start_month_num            519700 non-null int64\n",
      "start_month_char           519700 non-null object\n",
      "user_type                  519700 non-null category\n",
      "bike_id                    519700 non-null object\n",
      "start_station_id           519700 non-null object\n",
      "end_station_id             519700 non-null object\n",
      "dtypes: category(1), datetime64[ns](2), float64(4), int64(5), object(7)\n",
      "memory usage: 71.9+ MB\n"
     ]
    }
   ],
   "source": [
    "df_cleaned.info()"
   ]
  },
  {
   "cell_type": "markdown",
   "metadata": {},
   "source": [
    "## Define\n",
    "    \n",
    "   **Add new coloumns like month weekday **\n"
   ]
  },
  {
   "cell_type": "code",
   "execution_count": 20,
   "metadata": {},
   "outputs": [],
   "source": [
    "# Start time month (January - December) and (1-12)\n",
    "# a. month of the year\n",
    "df['start_time'] = pd.to_datetime(df['start_time'])\n",
    "df['start_month_num'] = df['start_time'].apply(lambda time: time.month)\n",
    "df['start_month_char'] = df['start_month_num'].apply(lambda x: calendar.month_abbr[x])"
   ]
  },
  {
   "cell_type": "code",
   "execution_count": 21,
   "metadata": {},
   "outputs": [],
   "source": [
    "# Start time weekday\n",
    "df_cleaned['start_time_weekday'] = df_cleaned['start_time'].dt.strftime('%a')"
   ]
  },
  {
   "cell_type": "code",
   "execution_count": 22,
   "metadata": {},
   "outputs": [],
   "source": [
    "# Start and end time hour\n",
    "df_cleaned['start_time_hour'] = df_cleaned['start_time'].dt.hour\n",
    "df_cleaned['end_time_hour'] = df_cleaned['end_time'].dt.hour"
   ]
  },
  {
   "cell_type": "markdown",
   "metadata": {},
   "source": [
    "## Test"
   ]
  },
  {
   "cell_type": "code",
   "execution_count": 23,
   "metadata": {},
   "outputs": [
    {
     "data": {
      "text/html": [
       "<div>\n",
       "<style scoped>\n",
       "    .dataframe tbody tr th:only-of-type {\n",
       "        vertical-align: middle;\n",
       "    }\n",
       "\n",
       "    .dataframe tbody tr th {\n",
       "        vertical-align: top;\n",
       "    }\n",
       "\n",
       "    .dataframe thead th {\n",
       "        text-align: right;\n",
       "    }\n",
       "</style>\n",
       "<table border=\"1\" class=\"dataframe\">\n",
       "  <thead>\n",
       "    <tr style=\"text-align: right;\">\n",
       "      <th></th>\n",
       "      <th>duration_sec</th>\n",
       "      <th>start_time</th>\n",
       "      <th>end_time</th>\n",
       "      <th>start_station_id</th>\n",
       "      <th>start_station_name</th>\n",
       "      <th>start_station_latitude</th>\n",
       "      <th>start_station_longitude</th>\n",
       "      <th>end_station_id</th>\n",
       "      <th>end_station_name</th>\n",
       "      <th>end_station_latitude</th>\n",
       "      <th>...</th>\n",
       "      <th>user_type</th>\n",
       "      <th>start_month_num</th>\n",
       "      <th>start_month_char</th>\n",
       "      <th>user_type</th>\n",
       "      <th>bike_id</th>\n",
       "      <th>start_station_id</th>\n",
       "      <th>end_station_id</th>\n",
       "      <th>start_time_weekday</th>\n",
       "      <th>start_time_hour</th>\n",
       "      <th>end_time_hour</th>\n",
       "    </tr>\n",
       "  </thead>\n",
       "  <tbody>\n",
       "    <tr>\n",
       "      <th>0</th>\n",
       "      <td>80110</td>\n",
       "      <td>2017-12-31 16:57:39.654</td>\n",
       "      <td>2018-01-01 15:12:50.245</td>\n",
       "      <td>74</td>\n",
       "      <td>Laguna St at Hayes St</td>\n",
       "      <td>37.776435</td>\n",
       "      <td>-122.426244</td>\n",
       "      <td>43</td>\n",
       "      <td>San Francisco Public Library (Grove St at Hyde...</td>\n",
       "      <td>37.778768</td>\n",
       "      <td>...</td>\n",
       "      <td>Customer</td>\n",
       "      <td>12</td>\n",
       "      <td>Dec</td>\n",
       "      <td>Customer</td>\n",
       "      <td>96</td>\n",
       "      <td>74</td>\n",
       "      <td>43</td>\n",
       "      <td>Sun</td>\n",
       "      <td>16</td>\n",
       "      <td>15</td>\n",
       "    </tr>\n",
       "    <tr>\n",
       "      <th>1</th>\n",
       "      <td>78800</td>\n",
       "      <td>2017-12-31 15:56:34.842</td>\n",
       "      <td>2018-01-01 13:49:55.617</td>\n",
       "      <td>284</td>\n",
       "      <td>Yerba Buena Center for the Arts (Howard St at ...</td>\n",
       "      <td>37.784872</td>\n",
       "      <td>-122.400876</td>\n",
       "      <td>96</td>\n",
       "      <td>Dolores St at 15th St</td>\n",
       "      <td>37.766210</td>\n",
       "      <td>...</td>\n",
       "      <td>Customer</td>\n",
       "      <td>12</td>\n",
       "      <td>Dec</td>\n",
       "      <td>Customer</td>\n",
       "      <td>88</td>\n",
       "      <td>284</td>\n",
       "      <td>96</td>\n",
       "      <td>Sun</td>\n",
       "      <td>15</td>\n",
       "      <td>13</td>\n",
       "    </tr>\n",
       "    <tr>\n",
       "      <th>2</th>\n",
       "      <td>45768</td>\n",
       "      <td>2017-12-31 22:45:48.411</td>\n",
       "      <td>2018-01-01 11:28:36.883</td>\n",
       "      <td>245</td>\n",
       "      <td>Downtown Berkeley BART</td>\n",
       "      <td>37.870348</td>\n",
       "      <td>-122.267764</td>\n",
       "      <td>245</td>\n",
       "      <td>Downtown Berkeley BART</td>\n",
       "      <td>37.870348</td>\n",
       "      <td>...</td>\n",
       "      <td>Customer</td>\n",
       "      <td>12</td>\n",
       "      <td>Dec</td>\n",
       "      <td>Customer</td>\n",
       "      <td>1094</td>\n",
       "      <td>245</td>\n",
       "      <td>245</td>\n",
       "      <td>Sun</td>\n",
       "      <td>22</td>\n",
       "      <td>11</td>\n",
       "    </tr>\n",
       "    <tr>\n",
       "      <th>3</th>\n",
       "      <td>62172</td>\n",
       "      <td>2017-12-31 17:31:10.636</td>\n",
       "      <td>2018-01-01 10:47:23.531</td>\n",
       "      <td>60</td>\n",
       "      <td>8th St at Ringold St</td>\n",
       "      <td>37.774520</td>\n",
       "      <td>-122.409449</td>\n",
       "      <td>5</td>\n",
       "      <td>Powell St BART Station (Market St at 5th St)</td>\n",
       "      <td>37.783899</td>\n",
       "      <td>...</td>\n",
       "      <td>Customer</td>\n",
       "      <td>12</td>\n",
       "      <td>Dec</td>\n",
       "      <td>Customer</td>\n",
       "      <td>2831</td>\n",
       "      <td>60</td>\n",
       "      <td>5</td>\n",
       "      <td>Sun</td>\n",
       "      <td>17</td>\n",
       "      <td>10</td>\n",
       "    </tr>\n",
       "    <tr>\n",
       "      <th>4</th>\n",
       "      <td>43603</td>\n",
       "      <td>2017-12-31 14:23:14.001</td>\n",
       "      <td>2018-01-01 02:29:57.571</td>\n",
       "      <td>239</td>\n",
       "      <td>Bancroft Way at Telegraph Ave</td>\n",
       "      <td>37.868813</td>\n",
       "      <td>-122.258764</td>\n",
       "      <td>247</td>\n",
       "      <td>Fulton St at Bancroft Way</td>\n",
       "      <td>37.867789</td>\n",
       "      <td>...</td>\n",
       "      <td>Subscriber</td>\n",
       "      <td>12</td>\n",
       "      <td>Dec</td>\n",
       "      <td>Subscriber</td>\n",
       "      <td>3167</td>\n",
       "      <td>239</td>\n",
       "      <td>247</td>\n",
       "      <td>Sun</td>\n",
       "      <td>14</td>\n",
       "      <td>2</td>\n",
       "    </tr>\n",
       "  </tbody>\n",
       "</table>\n",
       "<p>5 rows × 22 columns</p>\n",
       "</div>"
      ],
      "text/plain": [
       "   duration_sec              start_time                end_time  \\\n",
       "0         80110 2017-12-31 16:57:39.654 2018-01-01 15:12:50.245   \n",
       "1         78800 2017-12-31 15:56:34.842 2018-01-01 13:49:55.617   \n",
       "2         45768 2017-12-31 22:45:48.411 2018-01-01 11:28:36.883   \n",
       "3         62172 2017-12-31 17:31:10.636 2018-01-01 10:47:23.531   \n",
       "4         43603 2017-12-31 14:23:14.001 2018-01-01 02:29:57.571   \n",
       "\n",
       "   start_station_id                                 start_station_name  \\\n",
       "0                74                              Laguna St at Hayes St   \n",
       "1               284  Yerba Buena Center for the Arts (Howard St at ...   \n",
       "2               245                             Downtown Berkeley BART   \n",
       "3                60                               8th St at Ringold St   \n",
       "4               239                      Bancroft Way at Telegraph Ave   \n",
       "\n",
       "   start_station_latitude  start_station_longitude  end_station_id  \\\n",
       "0               37.776435              -122.426244              43   \n",
       "1               37.784872              -122.400876              96   \n",
       "2               37.870348              -122.267764             245   \n",
       "3               37.774520              -122.409449               5   \n",
       "4               37.868813              -122.258764             247   \n",
       "\n",
       "                                    end_station_name  end_station_latitude  \\\n",
       "0  San Francisco Public Library (Grove St at Hyde...             37.778768   \n",
       "1                              Dolores St at 15th St             37.766210   \n",
       "2                             Downtown Berkeley BART             37.870348   \n",
       "3       Powell St BART Station (Market St at 5th St)             37.783899   \n",
       "4                          Fulton St at Bancroft Way             37.867789   \n",
       "\n",
       "   ...   user_type  start_month_num start_month_char  user_type  bike_id   \\\n",
       "0  ...    Customer               12              Dec    Customer       96   \n",
       "1  ...    Customer               12              Dec    Customer       88   \n",
       "2  ...    Customer               12              Dec    Customer     1094   \n",
       "3  ...    Customer               12              Dec    Customer     2831   \n",
       "4  ...  Subscriber               12              Dec  Subscriber     3167   \n",
       "\n",
       "  start_station_id   end_station_id  start_time_weekday start_time_hour  \\\n",
       "0                 74              43                Sun              16   \n",
       "1                284              96                Sun              15   \n",
       "2                245             245                Sun              22   \n",
       "3                 60               5                Sun              17   \n",
       "4                239             247                Sun              14   \n",
       "\n",
       "  end_time_hour  \n",
       "0            15  \n",
       "1            13  \n",
       "2            11  \n",
       "3            10  \n",
       "4             2  \n",
       "\n",
       "[5 rows x 22 columns]"
      ]
     },
     "execution_count": 23,
     "metadata": {},
     "output_type": "execute_result"
    }
   ],
   "source": [
    "df_cleaned.head()"
   ]
  },
  {
   "cell_type": "code",
   "execution_count": 24,
   "metadata": {},
   "outputs": [
    {
     "name": "stdout",
     "output_type": "stream",
     "text": [
      "<class 'pandas.core.frame.DataFrame'>\n",
      "RangeIndex: 519700 entries, 0 to 519699\n",
      "Data columns (total 22 columns):\n",
      "duration_sec               519700 non-null int64\n",
      "start_time                 519700 non-null datetime64[ns]\n",
      "end_time                   519700 non-null datetime64[ns]\n",
      "start_station_id           519700 non-null int64\n",
      "start_station_name         519700 non-null object\n",
      "start_station_latitude     519700 non-null float64\n",
      "start_station_longitude    519700 non-null float64\n",
      "end_station_id             519700 non-null int64\n",
      "end_station_name           519700 non-null object\n",
      "end_station_latitude       519700 non-null float64\n",
      "end_station_longitude      519700 non-null float64\n",
      "bike_id                    519700 non-null int64\n",
      "user_type                  519700 non-null object\n",
      "start_month_num            519700 non-null int64\n",
      "start_month_char           519700 non-null object\n",
      "user_type                  519700 non-null category\n",
      "bike_id                    519700 non-null object\n",
      "start_station_id           519700 non-null object\n",
      "end_station_id             519700 non-null object\n",
      "start_time_weekday         519700 non-null object\n",
      "start_time_hour            519700 non-null int64\n",
      "end_time_hour              519700 non-null int64\n",
      "dtypes: category(1), datetime64[ns](2), float64(4), int64(7), object(8)\n",
      "memory usage: 83.8+ MB\n"
     ]
    }
   ],
   "source": [
    "df_cleaned.info(null_counts = True)\n"
   ]
  },
  {
   "cell_type": "code",
   "execution_count": 25,
   "metadata": {},
   "outputs": [
    {
     "data": {
      "text/html": [
       "<div>\n",
       "<style scoped>\n",
       "    .dataframe tbody tr th:only-of-type {\n",
       "        vertical-align: middle;\n",
       "    }\n",
       "\n",
       "    .dataframe tbody tr th {\n",
       "        vertical-align: top;\n",
       "    }\n",
       "\n",
       "    .dataframe thead th {\n",
       "        text-align: right;\n",
       "    }\n",
       "</style>\n",
       "<table border=\"1\" class=\"dataframe\">\n",
       "  <thead>\n",
       "    <tr style=\"text-align: right;\">\n",
       "      <th></th>\n",
       "      <th>duration_sec</th>\n",
       "      <th>start_time</th>\n",
       "      <th>end_time</th>\n",
       "      <th>start_station_id</th>\n",
       "      <th>start_station_name</th>\n",
       "      <th>start_station_latitude</th>\n",
       "      <th>start_station_longitude</th>\n",
       "      <th>end_station_id</th>\n",
       "      <th>end_station_name</th>\n",
       "      <th>end_station_latitude</th>\n",
       "      <th>...</th>\n",
       "      <th>user_type</th>\n",
       "      <th>start_month_num</th>\n",
       "      <th>start_month_char</th>\n",
       "      <th>user_type</th>\n",
       "      <th>bike_id</th>\n",
       "      <th>start_station_id</th>\n",
       "      <th>end_station_id</th>\n",
       "      <th>start_time_weekday</th>\n",
       "      <th>start_time_hour</th>\n",
       "      <th>end_time_hour</th>\n",
       "    </tr>\n",
       "  </thead>\n",
       "  <tbody>\n",
       "    <tr>\n",
       "      <th>299454</th>\n",
       "      <td>529</td>\n",
       "      <td>2017-09-28 12:55:54.507</td>\n",
       "      <td>2017-09-28 13:04:44.088</td>\n",
       "      <td>74</td>\n",
       "      <td>Laguna St at Hayes St</td>\n",
       "      <td>37.776435</td>\n",
       "      <td>-122.426244</td>\n",
       "      <td>61</td>\n",
       "      <td>Howard St at 8th St</td>\n",
       "      <td>37.776513</td>\n",
       "      <td>...</td>\n",
       "      <td>Subscriber</td>\n",
       "      <td>9</td>\n",
       "      <td>Sep</td>\n",
       "      <td>Subscriber</td>\n",
       "      <td>2661</td>\n",
       "      <td>74</td>\n",
       "      <td>61</td>\n",
       "      <td>Thu</td>\n",
       "      <td>12</td>\n",
       "      <td>13</td>\n",
       "    </tr>\n",
       "    <tr>\n",
       "      <th>227009</th>\n",
       "      <td>264</td>\n",
       "      <td>2017-10-19 11:25:23.754</td>\n",
       "      <td>2017-10-19 11:29:47.868</td>\n",
       "      <td>199</td>\n",
       "      <td>Webster St at 17th St</td>\n",
       "      <td>37.805830</td>\n",
       "      <td>-122.267308</td>\n",
       "      <td>196</td>\n",
       "      <td>Grand Ave at Perkins St</td>\n",
       "      <td>37.808894</td>\n",
       "      <td>...</td>\n",
       "      <td>Subscriber</td>\n",
       "      <td>10</td>\n",
       "      <td>Oct</td>\n",
       "      <td>Subscriber</td>\n",
       "      <td>543</td>\n",
       "      <td>199</td>\n",
       "      <td>196</td>\n",
       "      <td>Thu</td>\n",
       "      <td>11</td>\n",
       "      <td>11</td>\n",
       "    </tr>\n",
       "    <tr>\n",
       "      <th>11833</th>\n",
       "      <td>1059</td>\n",
       "      <td>2017-12-23 13:35:37.774</td>\n",
       "      <td>2017-12-23 13:53:17.249</td>\n",
       "      <td>285</td>\n",
       "      <td>Webster St at O'Farrell St</td>\n",
       "      <td>37.783521</td>\n",
       "      <td>-122.431158</td>\n",
       "      <td>133</td>\n",
       "      <td>Valencia St at 22nd St</td>\n",
       "      <td>37.755213</td>\n",
       "      <td>...</td>\n",
       "      <td>Subscriber</td>\n",
       "      <td>12</td>\n",
       "      <td>Dec</td>\n",
       "      <td>Subscriber</td>\n",
       "      <td>652</td>\n",
       "      <td>285</td>\n",
       "      <td>133</td>\n",
       "      <td>Sat</td>\n",
       "      <td>13</td>\n",
       "      <td>13</td>\n",
       "    </tr>\n",
       "    <tr>\n",
       "      <th>424311</th>\n",
       "      <td>1074</td>\n",
       "      <td>2017-08-20 15:26:21.482</td>\n",
       "      <td>2017-08-20 15:44:15.599</td>\n",
       "      <td>19</td>\n",
       "      <td>Post St at Kearny St</td>\n",
       "      <td>37.788975</td>\n",
       "      <td>-122.403452</td>\n",
       "      <td>81</td>\n",
       "      <td>Berry St at 4th St</td>\n",
       "      <td>37.775880</td>\n",
       "      <td>...</td>\n",
       "      <td>Subscriber</td>\n",
       "      <td>8</td>\n",
       "      <td>Aug</td>\n",
       "      <td>Subscriber</td>\n",
       "      <td>1752</td>\n",
       "      <td>19</td>\n",
       "      <td>81</td>\n",
       "      <td>Sun</td>\n",
       "      <td>15</td>\n",
       "      <td>15</td>\n",
       "    </tr>\n",
       "    <tr>\n",
       "      <th>92988</th>\n",
       "      <td>199</td>\n",
       "      <td>2017-11-29 13:51:49.667</td>\n",
       "      <td>2017-11-29 13:55:09.579</td>\n",
       "      <td>19</td>\n",
       "      <td>Post St at Kearny St</td>\n",
       "      <td>37.788975</td>\n",
       "      <td>-122.403452</td>\n",
       "      <td>3</td>\n",
       "      <td>Powell St BART Station (Market St at 4th St)</td>\n",
       "      <td>37.786375</td>\n",
       "      <td>...</td>\n",
       "      <td>Subscriber</td>\n",
       "      <td>11</td>\n",
       "      <td>Nov</td>\n",
       "      <td>Subscriber</td>\n",
       "      <td>1822</td>\n",
       "      <td>19</td>\n",
       "      <td>3</td>\n",
       "      <td>Wed</td>\n",
       "      <td>13</td>\n",
       "      <td>13</td>\n",
       "    </tr>\n",
       "  </tbody>\n",
       "</table>\n",
       "<p>5 rows × 22 columns</p>\n",
       "</div>"
      ],
      "text/plain": [
       "        duration_sec              start_time                end_time  \\\n",
       "299454           529 2017-09-28 12:55:54.507 2017-09-28 13:04:44.088   \n",
       "227009           264 2017-10-19 11:25:23.754 2017-10-19 11:29:47.868   \n",
       "11833           1059 2017-12-23 13:35:37.774 2017-12-23 13:53:17.249   \n",
       "424311          1074 2017-08-20 15:26:21.482 2017-08-20 15:44:15.599   \n",
       "92988            199 2017-11-29 13:51:49.667 2017-11-29 13:55:09.579   \n",
       "\n",
       "        start_station_id          start_station_name  start_station_latitude  \\\n",
       "299454                74       Laguna St at Hayes St               37.776435   \n",
       "227009               199       Webster St at 17th St               37.805830   \n",
       "11833                285  Webster St at O'Farrell St               37.783521   \n",
       "424311                19        Post St at Kearny St               37.788975   \n",
       "92988                 19        Post St at Kearny St               37.788975   \n",
       "\n",
       "        start_station_longitude  end_station_id  \\\n",
       "299454              -122.426244              61   \n",
       "227009              -122.267308             196   \n",
       "11833               -122.431158             133   \n",
       "424311              -122.403452              81   \n",
       "92988               -122.403452               3   \n",
       "\n",
       "                                    end_station_name  end_station_latitude  \\\n",
       "299454                           Howard St at 8th St             37.776513   \n",
       "227009                       Grand Ave at Perkins St             37.808894   \n",
       "11833                         Valencia St at 22nd St             37.755213   \n",
       "424311                            Berry St at 4th St             37.775880   \n",
       "92988   Powell St BART Station (Market St at 4th St)             37.786375   \n",
       "\n",
       "        ...   user_type  start_month_num start_month_char  user_type   \\\n",
       "299454  ...  Subscriber                9              Sep  Subscriber   \n",
       "227009  ...  Subscriber               10              Oct  Subscriber   \n",
       "11833   ...  Subscriber               12              Dec  Subscriber   \n",
       "424311  ...  Subscriber                8              Aug  Subscriber   \n",
       "92988   ...  Subscriber               11              Nov  Subscriber   \n",
       "\n",
       "       bike_id  start_station_id   end_station_id  start_time_weekday  \\\n",
       "299454     2661                 74              61                Thu   \n",
       "227009      543                199             196                Thu   \n",
       "11833       652                285             133                Sat   \n",
       "424311     1752                 19              81                Sun   \n",
       "92988      1822                 19               3                Wed   \n",
       "\n",
       "       start_time_hour end_time_hour  \n",
       "299454              12            13  \n",
       "227009              11            11  \n",
       "11833               13            13  \n",
       "424311              15            15  \n",
       "92988               13            13  \n",
       "\n",
       "[5 rows x 22 columns]"
      ]
     },
     "execution_count": 25,
     "metadata": {},
     "output_type": "execute_result"
    }
   ],
   "source": [
    "\n",
    "df_cleaned.sample(5)\n"
   ]
  },
  {
   "cell_type": "markdown",
   "metadata": {},
   "source": [
    "**Save the cleaned data set to a new file**\n"
   ]
  },
  {
   "cell_type": "code",
   "execution_count": 26,
   "metadata": {},
   "outputs": [],
   "source": [
    "df_cleaned.to_csv('fordgo_cleaned.csv', index = False)\n"
   ]
  },
  {
   "cell_type": "markdown",
   "metadata": {},
   "source": [
    "## What is the structure of your dataset?\n",
    "\n",
    "The column header descriptions are as follows:\n",
    "\n",
    "      Trip Duration:-\n",
    "            .Start Time and Date\n",
    "\n",
    "            .End Time and Date\n",
    "\n",
    "      Start Station ID:-\n",
    "            .Start Station Name\n",
    "           \n",
    "           .Start Station Latitude\n",
    "\n",
    "           .Start Station Longitude\n",
    "\n",
    "      End Station ID:-\n",
    "\n",
    "           .End Station Name\n",
    "\n",
    "           .End Station Latitude\n",
    "\n",
    "          .End Station Longitude\n",
    "\n",
    "          .Bike ID\n",
    "      \n",
    "      .User Type \n",
    "what i added:\n",
    "\n",
    "        .Start Time Month\n",
    "        \n",
    "        .Start Time Month Number\n",
    "\n",
    "        .Start Time Day of the Week\n",
    "        \n",
    "        .Start Time Hour\n"
   ]
  },
  {
   "cell_type": "markdown",
   "metadata": {},
   "source": [
    "## What are the main feature(s) of interest in your dataset?\n",
    "\n",
    "I am most interested start time/location and end time/location"
   ]
  },
  {
   "cell_type": "markdown",
   "metadata": {},
   "source": [
    "# Univariate Exploration"
   ]
  },
  {
   "cell_type": "code",
   "execution_count": 28,
   "metadata": {},
   "outputs": [
    {
     "data": {
      "text/plain": [
       "count     519700\n",
       "unique         7\n",
       "top          Oct\n",
       "freq      108937\n",
       "Name: start_month_char, dtype: object"
      ]
     },
     "execution_count": 28,
     "metadata": {},
     "output_type": "execute_result"
    }
   ],
   "source": [
    "\n",
    "# Before we visualize our data, let's see what kind of numbers we're looking at\n",
    "df_cleaned.start_month_char.describe()"
   ]
  },
  {
   "cell_type": "code",
   "execution_count": 30,
   "metadata": {},
   "outputs": [
    {
     "data": {
      "image/png": "[encoded data removed]",
      "text/plain": [
       "<Figure size 432x288 with 1 Axes>"
      ]
     },
     "metadata": {
      "needs_background": "light"
     },
     "output_type": "display_data"
    }
   ],
   "source": [
    "# Monthly usage of the Ford Go Bike system\n",
    "\n",
    "base_color=sb.color_palette()[0]\n",
    "\n",
    "sb.countplot(data=df_cleaned,x='start_month_char',color =base_color);\n",
    "plt.xlabel(\"Months\")\n",
    "plt.ylabel(\"Number of Bike Trips\")\n",
    "plt.title('Ford GoBike Usage by Month')\n",
    "plt.xticks(rotation=75);\n"
   ]
  },
  {
   "cell_type": "markdown",
   "metadata": {},
   "source": [
    "**observation**\n",
    "    October is the most popular month, with september as the second most popular, and November as the third most popular months to use the bike system.\n",
    "    \n",
    "  surprisingly, the winter months are the most popular times to use the Ford Go Bike sharing system in 2017."
   ]
  },
  {
   "cell_type": "code",
   "execution_count": 31,
   "metadata": {},
   "outputs": [
    {
     "data": {
      "image/png": "[encoded data removed]",
      "text/plain": [
       "<Figure size 432x288 with 1 Axes>"
      ]
     },
     "metadata": {
      "needs_background": "light"
     },
     "output_type": "display_data"
    }
   ],
   "source": [
    "## Weekday usage of the Ford Go bike system\n",
    "\n",
    "weekday = ['Mon', 'Tue', 'Wed', 'Thu', 'Fri', 'Sat', 'Sun']\n",
    "base_color=sb.color_palette()[0]\n",
    "\n",
    "sb.countplot(data=df_cleaned,x='start_time_weekday',color =base_color,order=weekday);\n",
    "plt.xlabel(\"Weekdays\")\n",
    "plt.ylabel(\"Number of Bike Trips\")\n",
    "plt.title('Ford GoBike Usage by weekdays')\n",
    "plt.xticks(rotation=75);\n"
   ]
  },
  {
   "cell_type": "markdown",
   "metadata": {},
   "source": [
    "**Observation2:-**\n",
    "Tuesdays and Wednesdays seem to be the most popular days for using the bike sharing system, however Thursdays, Mondays and Fridays are very close to the Tues/Weds numbers. The usage drops significantly on Saturdays and Sundays \n",
    "\n",
    "**Suggestion**:-\n",
    "Ford bike share system is used during working days"
   ]
  },
  {
   "cell_type": "code",
   "execution_count": 33,
   "metadata": {},
   "outputs": [
    {
     "data": {
      "image/png": "[encoded data removed]",
      "text/plain": [
       "<Figure size 432x288 with 1 Axes>"
      ]
     },
     "metadata": {
      "needs_background": "light"
     },
     "output_type": "display_data"
    }
   ],
   "source": [
    "# Hourly usage of the Ford Go Bike System\n",
    "base_color=sb.color_palette()[0]\n",
    "\n",
    "sb.countplot(data=df_cleaned,x='start_time_hour',color =base_color);\n",
    "plt.xlabel(\"Hours\")\n",
    "plt.ylabel(\"Number of Bike Trips\")\n",
    "plt.title('Ford GoBike use in Hours')\n",
    "plt.xticks(rotation=75);\n"
   ]
  },
  {
   "cell_type": "markdown",
   "metadata": {},
   "source": [
    "**Observation3**\n",
    "\n",
    "The bikes saw the most usage during the morning hours of 8-9am, and in the afternoon hours of 5-6pm."
   ]
  },
  {
   "cell_type": "code",
   "execution_count": 36,
   "metadata": {},
   "outputs": [
    {
     "data": {
      "text/plain": [
       "San Francisco Ferry Building (Harry Bridges Plaza)                 15187\n",
       "The Embarcadero at Sansome St                                      13664\n",
       "San Francisco Caltrain (Townsend St at 4th St)                     12546\n",
       "San Francisco Caltrain Station 2  (Townsend St at 4th St)          12055\n",
       "Market St at 10th St                                               11960\n",
       "Montgomery St BART Station (Market St at 2nd St)                   11334\n",
       "Berry St at 4th St                                                 10956\n",
       "Powell St BART Station (Market St at 4th St)                       10142\n",
       "Howard St at Beale St                                               9926\n",
       "Steuart St at Market St                                             9347\n",
       "Powell St BART Station (Market St at 5th St)                        7987\n",
       "Embarcadero BART Station (Beale St at Market St)                    7649\n",
       "2nd St at Townsend St - Coming Soon                                 6605\n",
       "3rd St at Townsend St                                               6414\n",
       "Townsend St at 7th St                                               6223\n",
       "The Embarcadero at Steuart St                                       5980\n",
       "2nd St at S Park St                                                 5785\n",
       "Howard St at 2nd St                                                 5732\n",
       "Union Square (Powell St at Post St)                                 5609\n",
       "19th Street BART Station                                            5558\n",
       "Civic Center/UN Plaza BART Station (Market St at McAllister St)     5497\n",
       "Post St at Kearny St                                                4842\n",
       "Spear St at Folsom St                                               4798\n",
       "S Van Ness Ave at Market St                                         4795\n",
       "The Embarcadero at Bryant St                                        4750\n",
       "Mechanics Monument Plaza (Market St at Bush St)                     4656\n",
       "5th St at Howard St                                                 4648\n",
       "2nd St at Folsom St                                                 4600\n",
       "Broadway at Kearny                                                  4511\n",
       "The Embarcadero at Vallejo St                                       4269\n",
       "                                                                   ...  \n",
       "14th St at Filbert St                                                105\n",
       "Ninth St at Heinz Ave                                                 94\n",
       "Fruitvale Ave at International Blvd                                   71\n",
       "San Pablo Ave at 27th St                                              62\n",
       "Telegraph Ave at Carleton St                                          61\n",
       "Mission St at 1st St                                                  61\n",
       "13th St at Franklin St                                                61\n",
       "Ninth St at Parker St                                                 60\n",
       "College Ave at Bryant Ave                                             59\n",
       "Vine St at Shattuck Ave                                               58\n",
       "Delmas Ave and San Fernando St                                        56\n",
       "21st Ave at International Blvd                                        54\n",
       "Dolores St at 22nd St                                                 47\n",
       "26th Ave at International Blvd                                        41\n",
       "Foothill Blvd at 42nd Ave                                             39\n",
       "Webster St at 19th St                                                 37\n",
       "Channing Way at San Pablo Ave                                         35\n",
       "Willow St at Vine St                                                  30\n",
       "Palm St at Willow St                                                  29\n",
       "Foothill Blvd at Harrington Ave                                       28\n",
       "University Ave at Oxford St                                           24\n",
       "Fruitvale BART Station                                                24\n",
       "Derby St at College Ave                                               16\n",
       "W St John St at Guadalupe River Trail                                 15\n",
       "Bestor Art Park                                                       15\n",
       "Pierce Ave at Market St                                               11\n",
       "Harmon St at Adeline St                                                6\n",
       "Empire St at 1st St                                                    5\n",
       "Jackson St at 11th St                                                  2\n",
       "Ellsworth St at Russell St                                             1\n",
       "Name: start_station_name, Length: 272, dtype: int64"
      ]
     },
     "execution_count": 36,
     "metadata": {},
     "output_type": "execute_result"
    }
   ],
   "source": [
    "# Locations. \n",
    "\n",
    "df_cleaned['start_station_name'].value_counts()"
   ]
  },
  {
   "cell_type": "code",
   "execution_count": 37,
   "metadata": {},
   "outputs": [
    {
     "data": {
      "text/plain": [
       "San Francisco Caltrain (Townsend St at 4th St)                     17378\n",
       "San Francisco Ferry Building (Harry Bridges Plaza)                 17109\n",
       "The Embarcadero at Sansome St                                      16531\n",
       "San Francisco Caltrain Station 2  (Townsend St at 4th St)          13658\n",
       "Montgomery St BART Station (Market St at 2nd St)                   13443\n",
       "Market St at 10th St                                               11298\n",
       "Powell St BART Station (Market St at 4th St)                       11064\n",
       "Berry St at 4th St                                                 10611\n",
       "Steuart St at Market St                                             9321\n",
       "Powell St BART Station (Market St at 5th St)                        8563\n",
       "Howard St at Beale St                                               7791\n",
       "2nd St at Townsend St - Coming Soon                                 7277\n",
       "Townsend St at 7th St                                               6681\n",
       "Embarcadero BART Station (Beale St at Market St)                    6320\n",
       "Civic Center/UN Plaza BART Station (Market St at McAllister St)     6275\n",
       "3rd St at Townsend St                                               6132\n",
       "The Embarcadero at Steuart St                                       5814\n",
       "Howard St at 2nd St                                                 5722\n",
       "Post St at Kearny St                                                5651\n",
       "2nd St at S Park St                                                 5581\n",
       "19th Street BART Station                                            5505\n",
       "Spear St at Folsom St                                               5441\n",
       "Mechanics Monument Plaza (Market St at Bush St)                     5232\n",
       "5th St at Howard St                                                 5095\n",
       "S Van Ness Ave at Market St                                         4574\n",
       "Valencia St at 16th St                                              4472\n",
       "The Embarcadero at Vallejo St                                       4381\n",
       "Beale St at Harrison St                                             4289\n",
       "The Embarcadero at Bryant St                                        4179\n",
       "Valencia St at 24th St                                              4138\n",
       "                                                                   ...  \n",
       "5th St at Taylor St                                                  103\n",
       "Marston Campbell Park                                                 92\n",
       "Fruitvale Ave at International Blvd                                   83\n",
       "21st Ave at International Blvd                                        71\n",
       "Ninth St at Parker St                                                 70\n",
       "Mission St at 1st St                                                  65\n",
       "Telegraph Ave at Carleton St                                          65\n",
       "Dolores St at 22nd St                                                 63\n",
       "26th Ave at International Blvd                                        61\n",
       "Vine St at Shattuck Ave                                               60\n",
       "College Ave at Bryant Ave                                             56\n",
       "San Pablo Ave at 27th St                                              55\n",
       "Channing Way at San Pablo Ave                                         49\n",
       "Webster St at 19th St                                                 48\n",
       "13th St at Franklin St                                                48\n",
       "Delmas Ave and San Fernando St                                        48\n",
       "Palm St at Willow St                                                  37\n",
       "Foothill Blvd at 42nd Ave                                             36\n",
       "Foothill Blvd at Harrington Ave                                       31\n",
       "Fruitvale BART Station                                                30\n",
       "University Ave at Oxford St                                           29\n",
       "Willow St at Vine St                                                  22\n",
       "W St John St at Guadalupe River Trail                                 19\n",
       "Derby St at College Ave                                               18\n",
       "Bestor Art Park                                                       17\n",
       "Pierce Ave at Market St                                                7\n",
       "Harmon St at Adeline St                                                4\n",
       "Jackson St at 11th St                                                  3\n",
       "Empire St at 1st St                                                    2\n",
       "Ellsworth St at Russell St                                             2\n",
       "Name: end_station_name, Length: 272, dtype: int64"
      ]
     },
     "execution_count": 37,
     "metadata": {},
     "output_type": "execute_result"
    }
   ],
   "source": [
    "df_cleaned['end_station_name'].value_counts()"
   ]
  },
  {
   "cell_type": "code",
   "execution_count": 39,
   "metadata": {},
   "outputs": [],
   "source": [
    "locs = ['San Francisco Ferry Building (Harry Bridges Plaza)','The Embarcadero at Sansome St','San Francisco Caltrain (Townsend St at 4th St)','San Francisco Caltrain Station 2  (Townsend St at 4th St)','Market St at 10th St']\n",
    "df_top5 = df_cleaned.loc[df_cleaned['start_station_name'].isin(locs)]"
   ]
  },
  {
   "cell_type": "code",
   "execution_count": 40,
   "metadata": {},
   "outputs": [],
   "source": [
    "st_stat_order = df_top5['start_station_name'].value_counts().index\n"
   ]
  },
  {
   "cell_type": "code",
   "execution_count": 41,
   "metadata": {},
   "outputs": [
    {
     "data": {
      "image/png": "[encoded data removed]",
      "text/plain": [
       "<Figure size 432x288 with 1 Axes>"
      ]
     },
     "metadata": {
      "needs_background": "light"
     },
     "output_type": "display_data"
    }
   ],
   "source": [
    "base_color = sb.color_palette()[0]\n",
    "sb.countplot(data=df_top5, y='start_station_name', color=base_color, order=st_stat_order)\n",
    "plt.xlabel('Count')\n",
    "plt.ylabel('Start Station Name')\n",
    "plt.title('Top 5 Stations ');"
   ]
  },
  {
   "cell_type": "markdown",
   "metadata": {},
   "source": [
    "**observation4**\n",
    "\n",
    "After checking start and end stations, most stations in San Francisco connect to public transportations such as Caltrain"
   ]
  },
  {
   "cell_type": "markdown",
   "metadata": {},
   "source": [
    "# Bivariate Exploration"
   ]
  },
  {
   "cell_type": "code",
   "execution_count": 51,
   "metadata": {},
   "outputs": [
    {
     "data": {
      "image/png": "[encoded data removed]",
      "text/plain": [
       "<Figure size 720x360 with 1 Axes>"
      ]
     },
     "metadata": {
      "needs_background": "light"
     },
     "output_type": "display_data"
    }
   ],
   "source": [
    "# Customers vs Subscribers Visuals\n",
    "# bar chart\n",
    "plt.figure(figsize = [10, 5])\n",
    "\n",
    "sb.countplot(data = df_cleaned, x = \"user_type\",order=df_cleaned.user_type.value_counts().index);\n",
    "plt.xlabel('User Type');\n",
    "plt.ylabel('Number of Bike Trips');\n",
    "plt.title('Ford GoBike System - Customers vs. Subscribers');"
   ]
  },
  {
   "cell_type": "code",
   "execution_count": 60,
   "metadata": {},
   "outputs": [
    {
     "data": {
      "image/png": "[encoded data removed]",
      "text/plain": [
       "<Figure size 720x360 with 2 Axes>"
      ]
     },
     "metadata": {
      "needs_background": "light"
     },
     "output_type": "display_data"
    }
   ],
   "source": [
    "#plt.figure(figsize = [12, 5])\n",
    "graph = sb.catplot(data=df_cleaned, x='start_time_month', col=\"user_type\", kind='count', sharey = True, color = base_color);\n",
    "\n",
    "graph.set_axis_labels(\"Month\", \"Number of Bike Trips\");\n",
    "graph.set_titles(\"{col_name}\");\n",
    "\n",
    "graph.fig.suptitle('Ford GoBike System - Customers vs. Subscribers', y=1.05, fontsize=16, fontweight='bold');\n",
    "graph.set_xticklabels(rotation=75);"
   ]
  },
  {
   "cell_type": "markdown",
   "metadata": {},
   "source": [
    "**Observation**\n",
    " \n",
    " Winter months are the good for the bike sharing system for both groups what can be determined by the harsher weather.¶"
   ]
  },
  {
   "cell_type": "code",
   "execution_count": 61,
   "metadata": {},
   "outputs": [
    {
     "data": {
      "image/png": "[encoded data removed]",
      "text/plain": [
       "<Figure size 864x360 with 1 Axes>"
      ]
     },
     "metadata": {
      "needs_background": "light"
     },
     "output_type": "display_data"
    }
   ],
   "source": [
    "plt.figure(figsize=(12, 5))\n",
    "\n",
    "df_cleaned_user_week = df_cleaned.groupby(['start_time_weekday', 'user_type']).size().reset_index()\n",
    "weekday = ['Mon', 'Tue', 'Wed', 'Thu', 'Fri', 'Sat', 'Sun']\n",
    "\n",
    "ax = sb.pointplot(data=df_cleaned_user_week, x='start_time_weekday', y=0, hue = 'user_type', scale=.7, order = weekday);\n",
    "\n",
    "plt.title('Ford GoBike System Trends by User Type', y=1.05, fontsize=16, fontweight='bold')\n",
    "plt.xlabel('Weekdays')\n",
    "plt.ylabel('Number of Bike Trips');\n",
    "plt.grid()"
   ]
  },
  {
   "cell_type": "markdown",
   "metadata": {},
   "source": [
    "**observation**\n",
    "\n",
    " The point plot sharp contrast between Customers and Subscribers"
   ]
  },
  {
   "cell_type": "markdown",
   "metadata": {},
   "source": [
    "## Sources\n",
    "\n",
    ".[FordGoBike Data Set](https://s3.amazonaws.com/baywheels-data/index.html)dataset\n",
    "\n",
    "\n",
    ".[Matplotlib](https://matplotlib.org/)"
   ]
  }
 ],
 "metadata": {
  "kernelspec": {
   "display_name": "Python 3",
   "language": "python",
   "name": "python3"
  },
  "language_info": {
   "codemirror_mode": {
    "name": "ipython",
    "version": 3
   },
   "file_extension": ".py",
   "mimetype": "text/x-python",
   "name": "python",
   "nbconvert_exporter": "python",
   "pygments_lexer": "ipython3",
   "version": "3.7.3"
  }
 },
 "nbformat": 4,
 "nbformat_minor": 4
}
