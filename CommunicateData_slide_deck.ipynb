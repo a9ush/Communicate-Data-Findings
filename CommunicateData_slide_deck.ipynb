{
 "cells": [
  {
   "cell_type": "markdown",
   "metadata": {
    "slideshow": {
     "slide_type": "slide"
    }
   },
   "source": [
    "# Visualizing FordGoBike Data\n",
    "## (2017)"
   ]
  },
  {
   "cell_type": "markdown",
   "metadata": {
    "slideshow": {
     "slide_type": "slide"
    }
   },
   "source": [
    "## Table of Contents\n",
    "\n",
    "    Preliminary Wrangling\n",
    "\n",
    "    Univariate Exploration\n",
    "\n",
    "    Bivariate Explorationn\n",
    "\n",
    "    Multivariate Exploration\n",
    "\n",
    "    Summary\n",
    "\n",
    "    Sources"
   ]
  },
  {
   "cell_type": "markdown",
   "metadata": {
    "slideshow": {
     "slide_type": "slide"
    }
   },
   "source": [
    "# Preliminary Wrangling"
   ]
  },
  {
   "cell_type": "code",
   "execution_count": 29,
   "metadata": {
    "slideshow": {
     "slide_type": "slide"
    }
   },
   "outputs": [],
   "source": [
    "#all package\n",
    "import numpy as np\n",
    "import pandas as pd\n",
    "import matplotlib.pyplot as plt\n",
    "%matplotlib inline\n",
    "import seaborn as sb\n",
    "import calendar\n",
    "import datetime"
   ]
  },
  {
   "cell_type": "markdown",
   "metadata": {
    "slideshow": {
     "slide_type": "slide"
    }
   },
   "source": [
    "**Loading in the dataset**"
   ]
  },
  {
   "cell_type": "code",
   "execution_count": 30,
   "metadata": {
    "slideshow": {
     "slide_type": "slide"
    }
   },
   "outputs": [],
   "source": [
    "#load data\n",
    "df=pd.read_csv('2017-fordgobike-tripdata.csv')"
   ]
  },
  {
   "cell_type": "code",
   "execution_count": 31,
   "metadata": {
    "slideshow": {
     "slide_type": "skip"
    }
   },
   "outputs": [
    {
     "data": {
      "text/html": [
       "<div>\n",
       "<style scoped>\n",
       "    .dataframe tbody tr th:only-of-type {\n",
       "        vertical-align: middle;\n",
       "    }\n",
       "\n",
       "    .dataframe tbody tr th {\n",
       "        vertical-align: top;\n",
       "    }\n",
       "\n",
       "    .dataframe thead th {\n",
       "        text-align: right;\n",
       "    }\n",
       "</style>\n",
       "<table border=\"1\" class=\"dataframe\">\n",
       "  <thead>\n",
       "    <tr style=\"text-align: right;\">\n",
       "      <th></th>\n",
       "      <th>duration_sec</th>\n",
       "      <th>start_time</th>\n",
       "      <th>end_time</th>\n",
       "      <th>start_station_id</th>\n",
       "      <th>start_station_name</th>\n",
       "      <th>start_station_latitude</th>\n",
       "      <th>start_station_longitude</th>\n",
       "      <th>end_station_id</th>\n",
       "      <th>end_station_name</th>\n",
       "      <th>end_station_latitude</th>\n",
       "      <th>end_station_longitude</th>\n",
       "      <th>bike_id</th>\n",
       "      <th>user_type</th>\n",
       "    </tr>\n",
       "  </thead>\n",
       "  <tbody>\n",
       "    <tr>\n",
       "      <th>0</th>\n",
       "      <td>80110</td>\n",
       "      <td>2017-12-31 16:57:39.6540</td>\n",
       "      <td>2018-01-01 15:12:50.2450</td>\n",
       "      <td>74</td>\n",
       "      <td>Laguna St at Hayes St</td>\n",
       "      <td>37.776435</td>\n",
       "      <td>-122.426244</td>\n",
       "      <td>43</td>\n",
       "      <td>San Francisco Public Library (Grove St at Hyde...</td>\n",
       "      <td>37.778768</td>\n",
       "      <td>-122.415929</td>\n",
       "      <td>96</td>\n",
       "      <td>Customer</td>\n",
       "    </tr>\n",
       "    <tr>\n",
       "      <th>1</th>\n",
       "      <td>78800</td>\n",
       "      <td>2017-12-31 15:56:34.8420</td>\n",
       "      <td>2018-01-01 13:49:55.6170</td>\n",
       "      <td>284</td>\n",
       "      <td>Yerba Buena Center for the Arts (Howard St at ...</td>\n",
       "      <td>37.784872</td>\n",
       "      <td>-122.400876</td>\n",
       "      <td>96</td>\n",
       "      <td>Dolores St at 15th St</td>\n",
       "      <td>37.766210</td>\n",
       "      <td>-122.426614</td>\n",
       "      <td>88</td>\n",
       "      <td>Customer</td>\n",
       "    </tr>\n",
       "  </tbody>\n",
       "</table>\n",
       "</div>"
      ],
      "text/plain": [
       "   duration_sec                start_time                  end_time  \\\n",
       "0         80110  2017-12-31 16:57:39.6540  2018-01-01 15:12:50.2450   \n",
       "1         78800  2017-12-31 15:56:34.8420  2018-01-01 13:49:55.6170   \n",
       "\n",
       "   start_station_id                                 start_station_name  \\\n",
       "0                74                              Laguna St at Hayes St   \n",
       "1               284  Yerba Buena Center for the Arts (Howard St at ...   \n",
       "\n",
       "   start_station_latitude  start_station_longitude  end_station_id  \\\n",
       "0               37.776435              -122.426244              43   \n",
       "1               37.784872              -122.400876              96   \n",
       "\n",
       "                                    end_station_name  end_station_latitude  \\\n",
       "0  San Francisco Public Library (Grove St at Hyde...             37.778768   \n",
       "1                              Dolores St at 15th St             37.766210   \n",
       "\n",
       "   end_station_longitude  bike_id user_type  \n",
       "0            -122.415929       96  Customer  \n",
       "1            -122.426614       88  Customer  "
      ]
     },
     "execution_count": 31,
     "metadata": {},
     "output_type": "execute_result"
    }
   ],
   "source": [
    "df.head(2)"
   ]
  },
  {
   "cell_type": "code",
   "execution_count": 32,
   "metadata": {
    "slideshow": {
     "slide_type": "slide"
    }
   },
   "outputs": [
    {
     "name": "stdout",
     "output_type": "stream",
     "text": [
      "<class 'pandas.core.frame.DataFrame'>\n",
      "RangeIndex: 519700 entries, 0 to 519699\n",
      "Data columns (total 13 columns):\n",
      "duration_sec               519700 non-null int64\n",
      "start_time                 519700 non-null object\n",
      "end_time                   519700 non-null object\n",
      "start_station_id           519700 non-null int64\n",
      "start_station_name         519700 non-null object\n",
      "start_station_latitude     519700 non-null float64\n",
      "start_station_longitude    519700 non-null float64\n",
      "end_station_id             519700 non-null int64\n",
      "end_station_name           519700 non-null object\n",
      "end_station_latitude       519700 non-null float64\n",
      "end_station_longitude      519700 non-null float64\n",
      "bike_id                    519700 non-null int64\n",
      "user_type                  519700 non-null object\n",
      "dtypes: float64(4), int64(4), object(5)\n",
      "memory usage: 51.5+ MB\n"
     ]
    }
   ],
   "source": [
    "# information of data\n",
    "df.info()"
   ]
  },
  {
   "cell_type": "code",
   "execution_count": 33,
   "metadata": {
    "slideshow": {
     "slide_type": "skip"
    }
   },
   "outputs": [
    {
     "data": {
      "text/plain": [
       "(519700, 13)"
      ]
     },
     "execution_count": 33,
     "metadata": {},
     "output_type": "execute_result"
    }
   ],
   "source": [
    "df.shape"
   ]
  },
  {
   "cell_type": "code",
   "execution_count": 34,
   "metadata": {
    "slideshow": {
     "slide_type": "skip"
    }
   },
   "outputs": [
    {
     "data": {
      "text/plain": [
       "0"
      ]
     },
     "execution_count": 34,
     "metadata": {},
     "output_type": "execute_result"
    }
   ],
   "source": [
    "# checking duplicate\n",
    "df.duplicated().sum()\n"
   ]
  },
  {
   "cell_type": "code",
   "execution_count": 35,
   "metadata": {
    "slideshow": {
     "slide_type": "skip"
    }
   },
   "outputs": [
    {
     "data": {
      "text/plain": [
       "duration_sec               0\n",
       "start_time                 0\n",
       "end_time                   0\n",
       "start_station_id           0\n",
       "start_station_name         0\n",
       "start_station_latitude     0\n",
       "start_station_longitude    0\n",
       "end_station_id             0\n",
       "end_station_name           0\n",
       "end_station_latitude       0\n",
       "end_station_longitude      0\n",
       "bike_id                    0\n",
       "user_type                  0\n",
       "dtype: int64"
      ]
     },
     "execution_count": 35,
     "metadata": {},
     "output_type": "execute_result"
    }
   ],
   "source": [
    "#null values\n",
    "df.isna().sum()\n"
   ]
  },
  {
   "cell_type": "markdown",
   "metadata": {
    "slideshow": {
     "slide_type": "skip"
    }
   },
   "source": [
    "# Cleaning\n",
    "    we need to clean our data like:-\n",
    "          .Starting and ending times to the timestamp format\n",
    "          .Bike ID, start station ID, and end station ID to object format\n",
    "          .User type to category format"
   ]
  },
  {
   "cell_type": "code",
   "execution_count": 36,
   "metadata": {
    "slideshow": {
     "slide_type": "skip"
    }
   },
   "outputs": [],
   "source": [
    "#making the copy of data so the original data remains unchanged\n",
    "df_cleaned=df.copy()"
   ]
  },
  {
   "cell_type": "code",
   "execution_count": 37,
   "metadata": {
    "slideshow": {
     "slide_type": "slide"
    }
   },
   "outputs": [],
   "source": [
    "# Changing the format to datetime\n",
    "df_cleaned.start_time = pd.to_datetime(df_cleaned.start_time)\n",
    "df_cleaned.end_time = pd.to_datetime(df_cleaned.end_time)\n"
   ]
  },
  {
   "cell_type": "code",
   "execution_count": 38,
   "metadata": {
    "slideshow": {
     "slide_type": "skip"
    }
   },
   "outputs": [],
   "source": [
    "# User type to category format\n",
    "df_cleaned['user_type ']=df_cleaned.user_type.astype('category')"
   ]
  },
  {
   "cell_type": "code",
   "execution_count": 39,
   "metadata": {
    "slideshow": {
     "slide_type": "slide"
    }
   },
   "outputs": [],
   "source": [
    "#Bike ID, start station ID, and end station ID to object format\n",
    "df_cleaned['bike_id ']=df_cleaned.bike_id.astype(str)\n",
    "df_cleaned['start_station_id  ']=df_cleaned.start_station_id .astype(str)\n",
    "df_cleaned['end_station_id ']=df_cleaned.end_station_id.astype(str)"
   ]
  },
  {
   "cell_type": "markdown",
   "metadata": {
    "slideshow": {
     "slide_type": "skip"
    }
   },
   "source": [
    "# Test"
   ]
  },
  {
   "cell_type": "code",
   "execution_count": 40,
   "metadata": {
    "slideshow": {
     "slide_type": "slide"
    }
   },
   "outputs": [
    {
     "name": "stdout",
     "output_type": "stream",
     "text": [
      "<class 'pandas.core.frame.DataFrame'>\n",
      "RangeIndex: 519700 entries, 0 to 519699\n",
      "Data columns (total 17 columns):\n",
      "duration_sec               519700 non-null int64\n",
      "start_time                 519700 non-null datetime64[ns]\n",
      "end_time                   519700 non-null datetime64[ns]\n",
      "start_station_id           519700 non-null int64\n",
      "start_station_name         519700 non-null object\n",
      "start_station_latitude     519700 non-null float64\n",
      "start_station_longitude    519700 non-null float64\n",
      "end_station_id             519700 non-null int64\n",
      "end_station_name           519700 non-null object\n",
      "end_station_latitude       519700 non-null float64\n",
      "end_station_longitude      519700 non-null float64\n",
      "bike_id                    519700 non-null int64\n",
      "user_type                  519700 non-null object\n",
      "user_type                  519700 non-null category\n",
      "bike_id                    519700 non-null object\n",
      "start_station_id           519700 non-null object\n",
      "end_station_id             519700 non-null object\n",
      "dtypes: category(1), datetime64[ns](2), float64(4), int64(4), object(6)\n",
      "memory usage: 63.9+ MB\n"
     ]
    }
   ],
   "source": [
    "df_cleaned.info()"
   ]
  },
  {
   "cell_type": "markdown",
   "metadata": {},
   "source": [
    "## Define\n",
    "    \n",
    "   **Add new coloumns like month weekday **\n"
   ]
  },
  {
   "cell_type": "code",
   "execution_count": 59,
   "metadata": {
    "slideshow": {
     "slide_type": "slide"
    }
   },
   "outputs": [],
   "source": [
    "# Start time month (January - December) and (1-12)\n",
    "# a. month of the year\n",
    "df_cleaned['start_time'] = pd.to_datetime(df_cleaned['start_time'])\n",
    "df_cleaned['start_month_num'] = df_cleaned['start_time'].apply(lambda time: time.month)\n",
    "df_cleaned['start_month_char'] = df_cleaned['start_month_num'].apply(lambda x: calendar.month_abbr[x])"
   ]
  },
  {
   "cell_type": "code",
   "execution_count": 42,
   "metadata": {
    "slideshow": {
     "slide_type": "slide"
    }
   },
   "outputs": [],
   "source": [
    "# Start time weekday\n",
    "df_cleaned['start_time_weekday'] = df_cleaned['start_time'].dt.strftime('%a')"
   ]
  },
  {
   "cell_type": "code",
   "execution_count": 43,
   "metadata": {
    "slideshow": {
     "slide_type": "slide"
    }
   },
   "outputs": [],
   "source": [
    "# Start and end time hour\n",
    "df_cleaned['start_time_hour'] = df_cleaned['start_time'].dt.hour\n",
    "df_cleaned['end_time_hour'] = df_cleaned['end_time'].dt.hour"
   ]
  },
  {
   "cell_type": "code",
   "execution_count": 44,
   "metadata": {
    "slideshow": {
     "slide_type": "slide"
    }
   },
   "outputs": [],
   "source": [
    "#adding duration minute\n",
    "df_cleaned['duration_min'] = df_cleaned['duration_sec']/60\n"
   ]
  },
  {
   "cell_type": "markdown",
   "metadata": {},
   "source": [
    "## Test"
   ]
  },
  {
   "cell_type": "code",
   "execution_count": 60,
   "metadata": {},
   "outputs": [
    {
     "data": {
      "text/html": [
       "<div>\n",
       "<style scoped>\n",
       "    .dataframe tbody tr th:only-of-type {\n",
       "        vertical-align: middle;\n",
       "    }\n",
       "\n",
       "    .dataframe tbody tr th {\n",
       "        vertical-align: top;\n",
       "    }\n",
       "\n",
       "    .dataframe thead th {\n",
       "        text-align: right;\n",
       "    }\n",
       "</style>\n",
       "<table border=\"1\" class=\"dataframe\">\n",
       "  <thead>\n",
       "    <tr style=\"text-align: right;\">\n",
       "      <th></th>\n",
       "      <th>duration_sec</th>\n",
       "      <th>start_time</th>\n",
       "      <th>end_time</th>\n",
       "      <th>start_station_id</th>\n",
       "      <th>start_station_name</th>\n",
       "      <th>start_station_latitude</th>\n",
       "      <th>start_station_longitude</th>\n",
       "      <th>end_station_id</th>\n",
       "      <th>end_station_name</th>\n",
       "      <th>end_station_latitude</th>\n",
       "      <th>...</th>\n",
       "      <th>user_type</th>\n",
       "      <th>bike_id</th>\n",
       "      <th>start_station_id</th>\n",
       "      <th>end_station_id</th>\n",
       "      <th>start_time_weekday</th>\n",
       "      <th>start_time_hour</th>\n",
       "      <th>end_time_hour</th>\n",
       "      <th>duration_min</th>\n",
       "      <th>start_month_num</th>\n",
       "      <th>start_month_char</th>\n",
       "    </tr>\n",
       "  </thead>\n",
       "  <tbody>\n",
       "    <tr>\n",
       "      <th>0</th>\n",
       "      <td>80110</td>\n",
       "      <td>2017-12-31 16:57:39.654</td>\n",
       "      <td>2018-01-01 15:12:50.245</td>\n",
       "      <td>74</td>\n",
       "      <td>Laguna St at Hayes St</td>\n",
       "      <td>37.776435</td>\n",
       "      <td>-122.426244</td>\n",
       "      <td>43</td>\n",
       "      <td>San Francisco Public Library (Grove St at Hyde...</td>\n",
       "      <td>37.778768</td>\n",
       "      <td>...</td>\n",
       "      <td>Customer</td>\n",
       "      <td>96</td>\n",
       "      <td>74</td>\n",
       "      <td>43</td>\n",
       "      <td>Sun</td>\n",
       "      <td>16</td>\n",
       "      <td>15</td>\n",
       "      <td>1335.166667</td>\n",
       "      <td>12</td>\n",
       "      <td>Dec</td>\n",
       "    </tr>\n",
       "    <tr>\n",
       "      <th>1</th>\n",
       "      <td>78800</td>\n",
       "      <td>2017-12-31 15:56:34.842</td>\n",
       "      <td>2018-01-01 13:49:55.617</td>\n",
       "      <td>284</td>\n",
       "      <td>Yerba Buena Center for the Arts (Howard St at ...</td>\n",
       "      <td>37.784872</td>\n",
       "      <td>-122.400876</td>\n",
       "      <td>96</td>\n",
       "      <td>Dolores St at 15th St</td>\n",
       "      <td>37.766210</td>\n",
       "      <td>...</td>\n",
       "      <td>Customer</td>\n",
       "      <td>88</td>\n",
       "      <td>284</td>\n",
       "      <td>96</td>\n",
       "      <td>Sun</td>\n",
       "      <td>15</td>\n",
       "      <td>13</td>\n",
       "      <td>1313.333333</td>\n",
       "      <td>12</td>\n",
       "      <td>Dec</td>\n",
       "    </tr>\n",
       "    <tr>\n",
       "      <th>2</th>\n",
       "      <td>45768</td>\n",
       "      <td>2017-12-31 22:45:48.411</td>\n",
       "      <td>2018-01-01 11:28:36.883</td>\n",
       "      <td>245</td>\n",
       "      <td>Downtown Berkeley BART</td>\n",
       "      <td>37.870348</td>\n",
       "      <td>-122.267764</td>\n",
       "      <td>245</td>\n",
       "      <td>Downtown Berkeley BART</td>\n",
       "      <td>37.870348</td>\n",
       "      <td>...</td>\n",
       "      <td>Customer</td>\n",
       "      <td>1094</td>\n",
       "      <td>245</td>\n",
       "      <td>245</td>\n",
       "      <td>Sun</td>\n",
       "      <td>22</td>\n",
       "      <td>11</td>\n",
       "      <td>762.800000</td>\n",
       "      <td>12</td>\n",
       "      <td>Dec</td>\n",
       "    </tr>\n",
       "    <tr>\n",
       "      <th>3</th>\n",
       "      <td>62172</td>\n",
       "      <td>2017-12-31 17:31:10.636</td>\n",
       "      <td>2018-01-01 10:47:23.531</td>\n",
       "      <td>60</td>\n",
       "      <td>8th St at Ringold St</td>\n",
       "      <td>37.774520</td>\n",
       "      <td>-122.409449</td>\n",
       "      <td>5</td>\n",
       "      <td>Powell St BART Station (Market St at 5th St)</td>\n",
       "      <td>37.783899</td>\n",
       "      <td>...</td>\n",
       "      <td>Customer</td>\n",
       "      <td>2831</td>\n",
       "      <td>60</td>\n",
       "      <td>5</td>\n",
       "      <td>Sun</td>\n",
       "      <td>17</td>\n",
       "      <td>10</td>\n",
       "      <td>1036.200000</td>\n",
       "      <td>12</td>\n",
       "      <td>Dec</td>\n",
       "    </tr>\n",
       "    <tr>\n",
       "      <th>4</th>\n",
       "      <td>43603</td>\n",
       "      <td>2017-12-31 14:23:14.001</td>\n",
       "      <td>2018-01-01 02:29:57.571</td>\n",
       "      <td>239</td>\n",
       "      <td>Bancroft Way at Telegraph Ave</td>\n",
       "      <td>37.868813</td>\n",
       "      <td>-122.258764</td>\n",
       "      <td>247</td>\n",
       "      <td>Fulton St at Bancroft Way</td>\n",
       "      <td>37.867789</td>\n",
       "      <td>...</td>\n",
       "      <td>Subscriber</td>\n",
       "      <td>3167</td>\n",
       "      <td>239</td>\n",
       "      <td>247</td>\n",
       "      <td>Sun</td>\n",
       "      <td>14</td>\n",
       "      <td>2</td>\n",
       "      <td>726.716667</td>\n",
       "      <td>12</td>\n",
       "      <td>Dec</td>\n",
       "    </tr>\n",
       "  </tbody>\n",
       "</table>\n",
       "<p>5 rows × 23 columns</p>\n",
       "</div>"
      ],
      "text/plain": [
       "   duration_sec              start_time                end_time  \\\n",
       "0         80110 2017-12-31 16:57:39.654 2018-01-01 15:12:50.245   \n",
       "1         78800 2017-12-31 15:56:34.842 2018-01-01 13:49:55.617   \n",
       "2         45768 2017-12-31 22:45:48.411 2018-01-01 11:28:36.883   \n",
       "3         62172 2017-12-31 17:31:10.636 2018-01-01 10:47:23.531   \n",
       "4         43603 2017-12-31 14:23:14.001 2018-01-01 02:29:57.571   \n",
       "\n",
       "   start_station_id                                 start_station_name  \\\n",
       "0                74                              Laguna St at Hayes St   \n",
       "1               284  Yerba Buena Center for the Arts (Howard St at ...   \n",
       "2               245                             Downtown Berkeley BART   \n",
       "3                60                               8th St at Ringold St   \n",
       "4               239                      Bancroft Way at Telegraph Ave   \n",
       "\n",
       "   start_station_latitude  start_station_longitude  end_station_id  \\\n",
       "0               37.776435              -122.426244              43   \n",
       "1               37.784872              -122.400876              96   \n",
       "2               37.870348              -122.267764             245   \n",
       "3               37.774520              -122.409449               5   \n",
       "4               37.868813              -122.258764             247   \n",
       "\n",
       "                                    end_station_name  end_station_latitude  \\\n",
       "0  San Francisco Public Library (Grove St at Hyde...             37.778768   \n",
       "1                              Dolores St at 15th St             37.766210   \n",
       "2                             Downtown Berkeley BART             37.870348   \n",
       "3       Powell St BART Station (Market St at 5th St)             37.783899   \n",
       "4                          Fulton St at Bancroft Way             37.867789   \n",
       "\n",
       "   ...  user_type   bike_id  start_station_id   end_station_id   \\\n",
       "0  ...    Customer        96                 74              43   \n",
       "1  ...    Customer        88                284              96   \n",
       "2  ...    Customer      1094                245             245   \n",
       "3  ...    Customer      2831                 60               5   \n",
       "4  ...  Subscriber      3167                239             247   \n",
       "\n",
       "  start_time_weekday start_time_hour end_time_hour duration_min  \\\n",
       "0                Sun              16            15  1335.166667   \n",
       "1                Sun              15            13  1313.333333   \n",
       "2                Sun              22            11   762.800000   \n",
       "3                Sun              17            10  1036.200000   \n",
       "4                Sun              14             2   726.716667   \n",
       "\n",
       "   start_month_num  start_month_char  \n",
       "0               12               Dec  \n",
       "1               12               Dec  \n",
       "2               12               Dec  \n",
       "3               12               Dec  \n",
       "4               12               Dec  \n",
       "\n",
       "[5 rows x 23 columns]"
      ]
     },
     "execution_count": 60,
     "metadata": {},
     "output_type": "execute_result"
    }
   ],
   "source": [
    "df_cleaned.head()"
   ]
  },
  {
   "cell_type": "code",
   "execution_count": 46,
   "metadata": {},
   "outputs": [
    {
     "name": "stdout",
     "output_type": "stream",
     "text": [
      "<class 'pandas.core.frame.DataFrame'>\n",
      "RangeIndex: 519700 entries, 0 to 519699\n",
      "Data columns (total 21 columns):\n",
      "duration_sec               519700 non-null int64\n",
      "start_time                 519700 non-null datetime64[ns]\n",
      "end_time                   519700 non-null datetime64[ns]\n",
      "start_station_id           519700 non-null int64\n",
      "start_station_name         519700 non-null object\n",
      "start_station_latitude     519700 non-null float64\n",
      "start_station_longitude    519700 non-null float64\n",
      "end_station_id             519700 non-null int64\n",
      "end_station_name           519700 non-null object\n",
      "end_station_latitude       519700 non-null float64\n",
      "end_station_longitude      519700 non-null float64\n",
      "bike_id                    519700 non-null int64\n",
      "user_type                  519700 non-null object\n",
      "user_type                  519700 non-null category\n",
      "bike_id                    519700 non-null object\n",
      "start_station_id           519700 non-null object\n",
      "end_station_id             519700 non-null object\n",
      "start_time_weekday         519700 non-null object\n",
      "start_time_hour            519700 non-null int64\n",
      "end_time_hour              519700 non-null int64\n",
      "duration_min               519700 non-null float64\n",
      "dtypes: category(1), datetime64[ns](2), float64(5), int64(6), object(7)\n",
      "memory usage: 79.8+ MB\n"
     ]
    }
   ],
   "source": [
    "df_cleaned.info(null_counts = True)\n"
   ]
  },
  {
   "cell_type": "code",
   "execution_count": 47,
   "metadata": {},
   "outputs": [
    {
     "data": {
      "text/html": [
       "<div>\n",
       "<style scoped>\n",
       "    .dataframe tbody tr th:only-of-type {\n",
       "        vertical-align: middle;\n",
       "    }\n",
       "\n",
       "    .dataframe tbody tr th {\n",
       "        vertical-align: top;\n",
       "    }\n",
       "\n",
       "    .dataframe thead th {\n",
       "        text-align: right;\n",
       "    }\n",
       "</style>\n",
       "<table border=\"1\" class=\"dataframe\">\n",
       "  <thead>\n",
       "    <tr style=\"text-align: right;\">\n",
       "      <th></th>\n",
       "      <th>duration_sec</th>\n",
       "      <th>start_time</th>\n",
       "      <th>end_time</th>\n",
       "      <th>start_station_id</th>\n",
       "      <th>start_station_name</th>\n",
       "      <th>start_station_latitude</th>\n",
       "      <th>start_station_longitude</th>\n",
       "      <th>end_station_id</th>\n",
       "      <th>end_station_name</th>\n",
       "      <th>end_station_latitude</th>\n",
       "      <th>...</th>\n",
       "      <th>bike_id</th>\n",
       "      <th>user_type</th>\n",
       "      <th>user_type</th>\n",
       "      <th>bike_id</th>\n",
       "      <th>start_station_id</th>\n",
       "      <th>end_station_id</th>\n",
       "      <th>start_time_weekday</th>\n",
       "      <th>start_time_hour</th>\n",
       "      <th>end_time_hour</th>\n",
       "      <th>duration_min</th>\n",
       "    </tr>\n",
       "  </thead>\n",
       "  <tbody>\n",
       "    <tr>\n",
       "      <th>323744</th>\n",
       "      <td>473</td>\n",
       "      <td>2017-09-21 13:29:29.050</td>\n",
       "      <td>2017-09-21 13:37:22.175</td>\n",
       "      <td>77</td>\n",
       "      <td>11th St at Natoma St</td>\n",
       "      <td>37.773507</td>\n",
       "      <td>-122.416040</td>\n",
       "      <td>47</td>\n",
       "      <td>4th St at Harrison St</td>\n",
       "      <td>37.780955</td>\n",
       "      <td>...</td>\n",
       "      <td>2209</td>\n",
       "      <td>Subscriber</td>\n",
       "      <td>Subscriber</td>\n",
       "      <td>2209</td>\n",
       "      <td>77</td>\n",
       "      <td>47</td>\n",
       "      <td>Thu</td>\n",
       "      <td>13</td>\n",
       "      <td>13</td>\n",
       "      <td>7.883333</td>\n",
       "    </tr>\n",
       "    <tr>\n",
       "      <th>180741</th>\n",
       "      <td>486</td>\n",
       "      <td>2017-11-01 09:59:37.175</td>\n",
       "      <td>2017-11-01 10:07:43.306</td>\n",
       "      <td>280</td>\n",
       "      <td>San Fernando at 7th St</td>\n",
       "      <td>37.337246</td>\n",
       "      <td>-121.883074</td>\n",
       "      <td>280</td>\n",
       "      <td>San Fernando at 7th St</td>\n",
       "      <td>37.337246</td>\n",
       "      <td>...</td>\n",
       "      <td>685</td>\n",
       "      <td>Subscriber</td>\n",
       "      <td>Subscriber</td>\n",
       "      <td>685</td>\n",
       "      <td>280</td>\n",
       "      <td>280</td>\n",
       "      <td>Wed</td>\n",
       "      <td>9</td>\n",
       "      <td>10</td>\n",
       "      <td>8.100000</td>\n",
       "    </tr>\n",
       "    <tr>\n",
       "      <th>196526</th>\n",
       "      <td>2144</td>\n",
       "      <td>2017-10-27 13:12:14.752</td>\n",
       "      <td>2017-10-27 13:47:59.172</td>\n",
       "      <td>98</td>\n",
       "      <td>Valencia St at 16th St</td>\n",
       "      <td>37.765052</td>\n",
       "      <td>-122.421866</td>\n",
       "      <td>321</td>\n",
       "      <td>5th at Folsom</td>\n",
       "      <td>37.780146</td>\n",
       "      <td>...</td>\n",
       "      <td>45</td>\n",
       "      <td>Subscriber</td>\n",
       "      <td>Subscriber</td>\n",
       "      <td>45</td>\n",
       "      <td>98</td>\n",
       "      <td>321</td>\n",
       "      <td>Fri</td>\n",
       "      <td>13</td>\n",
       "      <td>13</td>\n",
       "      <td>35.733333</td>\n",
       "    </tr>\n",
       "    <tr>\n",
       "      <th>495892</th>\n",
       "      <td>638</td>\n",
       "      <td>2017-07-19 14:43:41.523</td>\n",
       "      <td>2017-07-19 14:54:20.442</td>\n",
       "      <td>112</td>\n",
       "      <td>Harrison St at 17th St</td>\n",
       "      <td>37.763847</td>\n",
       "      <td>-122.413004</td>\n",
       "      <td>59</td>\n",
       "      <td>S Van Ness Ave at Market St</td>\n",
       "      <td>37.774814</td>\n",
       "      <td>...</td>\n",
       "      <td>2029</td>\n",
       "      <td>Subscriber</td>\n",
       "      <td>Subscriber</td>\n",
       "      <td>2029</td>\n",
       "      <td>112</td>\n",
       "      <td>59</td>\n",
       "      <td>Wed</td>\n",
       "      <td>14</td>\n",
       "      <td>14</td>\n",
       "      <td>10.633333</td>\n",
       "    </tr>\n",
       "    <tr>\n",
       "      <th>64587</th>\n",
       "      <td>439</td>\n",
       "      <td>2017-12-07 09:03:57.872</td>\n",
       "      <td>2017-12-07 09:11:17.581</td>\n",
       "      <td>189</td>\n",
       "      <td>Genoa St at 55th St</td>\n",
       "      <td>37.839649</td>\n",
       "      <td>-122.271756</td>\n",
       "      <td>176</td>\n",
       "      <td>MacArthur BART Station</td>\n",
       "      <td>37.828410</td>\n",
       "      <td>...</td>\n",
       "      <td>596</td>\n",
       "      <td>Subscriber</td>\n",
       "      <td>Subscriber</td>\n",
       "      <td>596</td>\n",
       "      <td>189</td>\n",
       "      <td>176</td>\n",
       "      <td>Thu</td>\n",
       "      <td>9</td>\n",
       "      <td>9</td>\n",
       "      <td>7.316667</td>\n",
       "    </tr>\n",
       "  </tbody>\n",
       "</table>\n",
       "<p>5 rows × 21 columns</p>\n",
       "</div>"
      ],
      "text/plain": [
       "        duration_sec              start_time                end_time  \\\n",
       "323744           473 2017-09-21 13:29:29.050 2017-09-21 13:37:22.175   \n",
       "180741           486 2017-11-01 09:59:37.175 2017-11-01 10:07:43.306   \n",
       "196526          2144 2017-10-27 13:12:14.752 2017-10-27 13:47:59.172   \n",
       "495892           638 2017-07-19 14:43:41.523 2017-07-19 14:54:20.442   \n",
       "64587            439 2017-12-07 09:03:57.872 2017-12-07 09:11:17.581   \n",
       "\n",
       "        start_station_id      start_station_name  start_station_latitude  \\\n",
       "323744                77    11th St at Natoma St               37.773507   \n",
       "180741               280  San Fernando at 7th St               37.337246   \n",
       "196526                98  Valencia St at 16th St               37.765052   \n",
       "495892               112  Harrison St at 17th St               37.763847   \n",
       "64587                189     Genoa St at 55th St               37.839649   \n",
       "\n",
       "        start_station_longitude  end_station_id             end_station_name  \\\n",
       "323744              -122.416040              47        4th St at Harrison St   \n",
       "180741              -121.883074             280       San Fernando at 7th St   \n",
       "196526              -122.421866             321                5th at Folsom   \n",
       "495892              -122.413004              59  S Van Ness Ave at Market St   \n",
       "64587               -122.271756             176       MacArthur BART Station   \n",
       "\n",
       "        end_station_latitude  ...  bike_id   user_type  user_type  bike_id   \\\n",
       "323744             37.780955  ...     2209  Subscriber  Subscriber     2209   \n",
       "180741             37.337246  ...      685  Subscriber  Subscriber      685   \n",
       "196526             37.780146  ...       45  Subscriber  Subscriber       45   \n",
       "495892             37.774814  ...     2029  Subscriber  Subscriber     2029   \n",
       "64587              37.828410  ...      596  Subscriber  Subscriber      596   \n",
       "\n",
       "       start_station_id   end_station_id  start_time_weekday start_time_hour  \\\n",
       "323744                 77              47                Thu              13   \n",
       "180741                280             280                Wed               9   \n",
       "196526                 98             321                Fri              13   \n",
       "495892                112              59                Wed              14   \n",
       "64587                 189             176                Thu               9   \n",
       "\n",
       "        end_time_hour  duration_min  \n",
       "323744             13      7.883333  \n",
       "180741             10      8.100000  \n",
       "196526             13     35.733333  \n",
       "495892             14     10.633333  \n",
       "64587               9      7.316667  \n",
       "\n",
       "[5 rows x 21 columns]"
      ]
     },
     "execution_count": 47,
     "metadata": {},
     "output_type": "execute_result"
    }
   ],
   "source": [
    "\n",
    "df_cleaned.sample(5)\n"
   ]
  },
  {
   "cell_type": "markdown",
   "metadata": {},
   "source": [
    "**Save the cleaned data set to a new file**\n"
   ]
  },
  {
   "cell_type": "code",
   "execution_count": 48,
   "metadata": {},
   "outputs": [],
   "source": [
    "df_cleaned.to_csv('fordgo_cleaned.csv', index = False)\n"
   ]
  },
  {
   "cell_type": "markdown",
   "metadata": {},
   "source": [
    "## What is the structure of your dataset?\n",
    "\n",
    "The column header descriptions are as follows:\n",
    "\n",
    "      Trip Duration:-\n",
    "            .Start Time and Date\n",
    "\n",
    "            .End Time and Date\n",
    "\n",
    "      Start Station ID:-\n",
    "            .Start Station Name\n",
    "           \n",
    "           .Start Station Latitude\n",
    "\n",
    "           .Start Station Longitude\n",
    "\n",
    "      End Station ID:-\n",
    "\n",
    "           .End Station Name\n",
    "\n",
    "           .End Station Latitude\n",
    "\n",
    "          .End Station Longitude\n",
    "\n",
    "          .Bike ID\n",
    "      \n",
    "      .User Type \n",
    "what i added:\n",
    "\n",
    "        .Start Time Month\n",
    "        \n",
    "        .Start Time Month Number\n",
    "\n",
    "        .Start Time Day of the Week\n",
    "        \n",
    "        .Start Time Hour\n",
    "        \n",
    "        .duration minute\n"
   ]
  },
  {
   "cell_type": "markdown",
   "metadata": {
    "slideshow": {
     "slide_type": "slide"
    }
   },
   "source": [
    "## What are the main feature(s) of interest in your dataset?\n",
    "\n",
    "I am most interested start time/location and end time/location"
   ]
  },
  {
   "cell_type": "markdown",
   "metadata": {
    "slideshow": {
     "slide_type": "skip"
    }
   },
   "source": [
    "# Univariate Exploration"
   ]
  },
  {
   "cell_type": "code",
   "execution_count": 61,
   "metadata": {
    "slideshow": {
     "slide_type": "skip"
    }
   },
   "outputs": [
    {
     "data": {
      "text/plain": [
       "count     519700\n",
       "unique         7\n",
       "top          Oct\n",
       "freq      108937\n",
       "Name: start_month_char, dtype: object"
      ]
     },
     "execution_count": 61,
     "metadata": {},
     "output_type": "execute_result"
    }
   ],
   "source": [
    "\n",
    "# Before we visualize our data, let's see what kind of numbers we're looking at\n",
    "df_cleaned.start_month_char.describe()"
   ]
  },
  {
   "cell_type": "code",
   "execution_count": 62,
   "metadata": {
    "slideshow": {
     "slide_type": "slide"
    }
   },
   "outputs": [
    {
     "data": {
      "image/png": "[encoded data removed]",
      "text/plain": [
       "<Figure size 432x288 with 1 Axes>"
      ]
     },
     "metadata": {
      "needs_background": "light"
     },
     "output_type": "display_data"
    }
   ],
   "source": [
    "# Monthly usage of the Ford Go Bike system\n",
    "\n",
    "base_color=sb.color_palette()[0]\n",
    "\n",
    "sb.countplot(data=df_cleaned,x='start_month_char',color =base_color);\n",
    "plt.xlabel(\"Months\")\n",
    "plt.ylabel(\"Number of Bike Trips\")\n",
    "plt.title('Ford GoBike Usage by Month')\n",
    "plt.xticks(rotation=75);\n"
   ]
  },
  {
   "cell_type": "markdown",
   "metadata": {
    "slideshow": {
     "slide_type": "skip"
    }
   },
   "source": [
    "**observation1**\n",
    "    October is the most popular month, with september as the second most popular, and November as the third most popular months to use the bike system.\n",
    "    \n",
    "  surprisingly, the winter months are the most popular times to use the Ford Go Bike sharing system in 2017."
   ]
  },
  {
   "cell_type": "code",
   "execution_count": 63,
   "metadata": {
    "slideshow": {
     "slide_type": "skip"
    }
   },
   "outputs": [
    {
     "data": {
      "image/png": "[encoded data removed]",
      "text/plain": [
       "<Figure size 432x288 with 1 Axes>"
      ]
     },
     "metadata": {
      "needs_background": "light"
     },
     "output_type": "display_data"
    }
   ],
   "source": [
    "## Weekday usage of the Ford Go bike system\n",
    "\n",
    "weekday = ['Mon', 'Tue', 'Wed', 'Thu', 'Fri', 'Sat', 'Sun']\n",
    "base_color=sb.color_palette()[0]\n",
    "\n",
    "sb.countplot(data=df_cleaned,x='start_time_weekday',color =base_color,order=weekday);\n",
    "plt.xlabel(\"Weekdays\")\n",
    "plt.ylabel(\"Number of Bike Trips\")\n",
    "plt.title('Ford GoBike Usage by weekdays')\n",
    "plt.xticks(rotation=75);\n"
   ]
  },
  {
   "cell_type": "markdown",
   "metadata": {
    "slideshow": {
     "slide_type": "skip"
    }
   },
   "source": [
    "**Observation2:-**\n",
    "Tuesdays and Wednesdays seem to be the most popular days for using the bike sharing system, however Thursdays, Mondays and Fridays are very close to the Tues/Weds numbers. The usage drops significantly on Saturdays and Sundays \n",
    "\n",
    "**Suggestion**:-\n",
    "Ford bike share system is used during working days"
   ]
  },
  {
   "cell_type": "code",
   "execution_count": 64,
   "metadata": {
    "slideshow": {
     "slide_type": "skip"
    }
   },
   "outputs": [
    {
     "data": {
      "image/png": "[encoded data removed]",
      "text/plain": [
       "<Figure size 432x288 with 1 Axes>"
      ]
     },
     "metadata": {
      "needs_background": "light"
     },
     "output_type": "display_data"
    }
   ],
   "source": [
    "# Hourly usage of the Ford Go Bike System\n",
    "base_color=sb.color_palette()[0]\n",
    "\n",
    "sb.countplot(data=df_cleaned,x='start_time_hour',color =base_color);\n",
    "plt.xlabel(\"Hours\")\n",
    "plt.ylabel(\"Number of Bike Trips\")\n",
    "plt.title('Ford GoBike use in Hours')\n",
    "plt.xticks(rotation=75);\n"
   ]
  },
  {
   "cell_type": "markdown",
   "metadata": {
    "slideshow": {
     "slide_type": "skip"
    }
   },
   "source": [
    "**Observation3**\n",
    "\n",
    "The bikes saw the most usage during the morning hours of 8-9am, and in the afternoon hours of 5-6pm."
   ]
  },
  {
   "cell_type": "code",
   "execution_count": 65,
   "metadata": {
    "slideshow": {
     "slide_type": "skip"
    }
   },
   "outputs": [
    {
     "data": {
      "text/plain": [
       "San Francisco Ferry Building (Harry Bridges Plaza)                 15187\n",
       "The Embarcadero at Sansome St                                      13664\n",
       "San Francisco Caltrain (Townsend St at 4th St)                     12546\n",
       "San Francisco Caltrain Station 2  (Townsend St at 4th St)          12055\n",
       "Market St at 10th St                                               11960\n",
       "Montgomery St BART Station (Market St at 2nd St)                   11334\n",
       "Berry St at 4th St                                                 10956\n",
       "Powell St BART Station (Market St at 4th St)                       10142\n",
       "Howard St at Beale St                                               9926\n",
       "Steuart St at Market St                                             9347\n",
       "Powell St BART Station (Market St at 5th St)                        7987\n",
       "Embarcadero BART Station (Beale St at Market St)                    7649\n",
       "2nd St at Townsend St - Coming Soon                                 6605\n",
       "3rd St at Townsend St                                               6414\n",
       "Townsend St at 7th St                                               6223\n",
       "The Embarcadero at Steuart St                                       5980\n",
       "2nd St at S Park St                                                 5785\n",
       "Howard St at 2nd St                                                 5732\n",
       "Union Square (Powell St at Post St)                                 5609\n",
       "19th Street BART Station                                            5558\n",
       "Civic Center/UN Plaza BART Station (Market St at McAllister St)     5497\n",
       "Post St at Kearny St                                                4842\n",
       "Spear St at Folsom St                                               4798\n",
       "S Van Ness Ave at Market St                                         4795\n",
       "The Embarcadero at Bryant St                                        4750\n",
       "Mechanics Monument Plaza (Market St at Bush St)                     4656\n",
       "5th St at Howard St                                                 4648\n",
       "2nd St at Folsom St                                                 4600\n",
       "Broadway at Kearny                                                  4511\n",
       "The Embarcadero at Vallejo St                                       4269\n",
       "                                                                   ...  \n",
       "14th St at Filbert St                                                105\n",
       "Ninth St at Heinz Ave                                                 94\n",
       "Fruitvale Ave at International Blvd                                   71\n",
       "San Pablo Ave at 27th St                                              62\n",
       "Mission St at 1st St                                                  61\n",
       "13th St at Franklin St                                                61\n",
       "Telegraph Ave at Carleton St                                          61\n",
       "Ninth St at Parker St                                                 60\n",
       "College Ave at Bryant Ave                                             59\n",
       "Vine St at Shattuck Ave                                               58\n",
       "Delmas Ave and San Fernando St                                        56\n",
       "21st Ave at International Blvd                                        54\n",
       "Dolores St at 22nd St                                                 47\n",
       "26th Ave at International Blvd                                        41\n",
       "Foothill Blvd at 42nd Ave                                             39\n",
       "Webster St at 19th St                                                 37\n",
       "Channing Way at San Pablo Ave                                         35\n",
       "Willow St at Vine St                                                  30\n",
       "Palm St at Willow St                                                  29\n",
       "Foothill Blvd at Harrington Ave                                       28\n",
       "Fruitvale BART Station                                                24\n",
       "University Ave at Oxford St                                           24\n",
       "Derby St at College Ave                                               16\n",
       "W St John St at Guadalupe River Trail                                 15\n",
       "Bestor Art Park                                                       15\n",
       "Pierce Ave at Market St                                               11\n",
       "Harmon St at Adeline St                                                6\n",
       "Empire St at 1st St                                                    5\n",
       "Jackson St at 11th St                                                  2\n",
       "Ellsworth St at Russell St                                             1\n",
       "Name: start_station_name, Length: 272, dtype: int64"
      ]
     },
     "execution_count": 65,
     "metadata": {},
     "output_type": "execute_result"
    }
   ],
   "source": [
    "# Locations. \n",
    "\n",
    "df_cleaned['start_station_name'].value_counts()"
   ]
  },
  {
   "cell_type": "code",
   "execution_count": 66,
   "metadata": {
    "slideshow": {
     "slide_type": "skip"
    }
   },
   "outputs": [
    {
     "data": {
      "text/plain": [
       "San Francisco Caltrain (Townsend St at 4th St)                     17378\n",
       "San Francisco Ferry Building (Harry Bridges Plaza)                 17109\n",
       "The Embarcadero at Sansome St                                      16531\n",
       "San Francisco Caltrain Station 2  (Townsend St at 4th St)          13658\n",
       "Montgomery St BART Station (Market St at 2nd St)                   13443\n",
       "Market St at 10th St                                               11298\n",
       "Powell St BART Station (Market St at 4th St)                       11064\n",
       "Berry St at 4th St                                                 10611\n",
       "Steuart St at Market St                                             9321\n",
       "Powell St BART Station (Market St at 5th St)                        8563\n",
       "Howard St at Beale St                                               7791\n",
       "2nd St at Townsend St - Coming Soon                                 7277\n",
       "Townsend St at 7th St                                               6681\n",
       "Embarcadero BART Station (Beale St at Market St)                    6320\n",
       "Civic Center/UN Plaza BART Station (Market St at McAllister St)     6275\n",
       "3rd St at Townsend St                                               6132\n",
       "The Embarcadero at Steuart St                                       5814\n",
       "Howard St at 2nd St                                                 5722\n",
       "Post St at Kearny St                                                5651\n",
       "2nd St at S Park St                                                 5581\n",
       "19th Street BART Station                                            5505\n",
       "Spear St at Folsom St                                               5441\n",
       "Mechanics Monument Plaza (Market St at Bush St)                     5232\n",
       "5th St at Howard St                                                 5095\n",
       "S Van Ness Ave at Market St                                         4574\n",
       "Valencia St at 16th St                                              4472\n",
       "The Embarcadero at Vallejo St                                       4381\n",
       "Beale St at Harrison St                                             4289\n",
       "The Embarcadero at Bryant St                                        4179\n",
       "Valencia St at 24th St                                              4138\n",
       "                                                                   ...  \n",
       "5th St at Taylor St                                                  103\n",
       "Marston Campbell Park                                                 92\n",
       "Fruitvale Ave at International Blvd                                   83\n",
       "21st Ave at International Blvd                                        71\n",
       "Ninth St at Parker St                                                 70\n",
       "Mission St at 1st St                                                  65\n",
       "Telegraph Ave at Carleton St                                          65\n",
       "Dolores St at 22nd St                                                 63\n",
       "26th Ave at International Blvd                                        61\n",
       "Vine St at Shattuck Ave                                               60\n",
       "College Ave at Bryant Ave                                             56\n",
       "San Pablo Ave at 27th St                                              55\n",
       "Channing Way at San Pablo Ave                                         49\n",
       "Webster St at 19th St                                                 48\n",
       "13th St at Franklin St                                                48\n",
       "Delmas Ave and San Fernando St                                        48\n",
       "Palm St at Willow St                                                  37\n",
       "Foothill Blvd at 42nd Ave                                             36\n",
       "Foothill Blvd at Harrington Ave                                       31\n",
       "Fruitvale BART Station                                                30\n",
       "University Ave at Oxford St                                           29\n",
       "Willow St at Vine St                                                  22\n",
       "W St John St at Guadalupe River Trail                                 19\n",
       "Derby St at College Ave                                               18\n",
       "Bestor Art Park                                                       17\n",
       "Pierce Ave at Market St                                                7\n",
       "Harmon St at Adeline St                                                4\n",
       "Jackson St at 11th St                                                  3\n",
       "Empire St at 1st St                                                    2\n",
       "Ellsworth St at Russell St                                             2\n",
       "Name: end_station_name, Length: 272, dtype: int64"
      ]
     },
     "execution_count": 66,
     "metadata": {},
     "output_type": "execute_result"
    }
   ],
   "source": [
    "df_cleaned['end_station_name'].value_counts()"
   ]
  },
  {
   "cell_type": "code",
   "execution_count": 67,
   "metadata": {
    "slideshow": {
     "slide_type": "skip"
    }
   },
   "outputs": [],
   "source": [
    "locs = ['San Francisco Ferry Building (Harry Bridges Plaza)','The Embarcadero at Sansome St','San Francisco Caltrain (Townsend St at 4th St)','San Francisco Caltrain Station 2  (Townsend St at 4th St)','Market St at 10th St']\n",
    "df_top5 = df_cleaned.loc[df_cleaned['start_station_name'].isin(locs)]"
   ]
  },
  {
   "cell_type": "code",
   "execution_count": 68,
   "metadata": {
    "slideshow": {
     "slide_type": "skip"
    }
   },
   "outputs": [],
   "source": [
    "st_stat_order = df_top5['start_station_name'].value_counts().index\n"
   ]
  },
  {
   "cell_type": "code",
   "execution_count": 69,
   "metadata": {
    "slideshow": {
     "slide_type": "skip"
    }
   },
   "outputs": [
    {
     "data": {
      "image/png": "[encoded data removed]",
      "text/plain": [
       "<Figure size 432x288 with 1 Axes>"
      ]
     },
     "metadata": {
      "needs_background": "light"
     },
     "output_type": "display_data"
    }
   ],
   "source": [
    "base_color = sb.color_palette()[0]\n",
    "sb.countplot(data=df_top5, y='start_station_name', color=base_color, order=st_stat_order)\n",
    "plt.xlabel('Count')\n",
    "plt.ylabel('Start Station Name')\n",
    "plt.title('Top 5 Stations ');"
   ]
  },
  {
   "cell_type": "markdown",
   "metadata": {
    "slideshow": {
     "slide_type": "skip"
    }
   },
   "source": [
    "**observation4**\n",
    "\n",
    "After checking start and end stations, most stations in San Francisco connect to public transportations such as Caltrain\n"
   ]
  },
  {
   "cell_type": "code",
   "execution_count": 70,
   "metadata": {
    "slideshow": {
     "slide_type": "skip"
    }
   },
   "outputs": [
    {
     "data": {
      "image/png": "[encoded data removed]",
      "text/plain": [
       "<Figure size 432x288 with 1 Axes>"
      ]
     },
     "metadata": {
      "needs_background": "light"
     },
     "output_type": "display_data"
    }
   ],
   "source": [
    "#violin plot for duration minute\n",
    "sb.violinplot(data = df_cleaned, x = 'duration_min');\n"
   ]
  },
  {
   "cell_type": "markdown",
   "metadata": {
    "slideshow": {
     "slide_type": "skip"
    }
   },
   "source": [
    "**observation5**\n",
    "\n",
    "It's seems that most data are below 50. Let's find out the distribution.\n",
    "\n"
   ]
  },
  {
   "cell_type": "code",
   "execution_count": 51,
   "metadata": {
    "slideshow": {
     "slide_type": "skip"
    }
   },
   "outputs": [
    {
     "data": {
      "text/plain": [
       "count    519700.000000\n",
       "mean         18.316825\n",
       "std          57.402441\n",
       "min           1.016667\n",
       "25%           6.366667\n",
       "50%           9.933333\n",
       "75%          15.633333\n",
       "max        1439.483333\n",
       "Name: duration_min, dtype: float64"
      ]
     },
     "execution_count": 51,
     "metadata": {},
     "output_type": "execute_result"
    }
   ],
   "source": [
    "df_cleaned.duration_min.describe()"
   ]
  },
  {
   "cell_type": "markdown",
   "metadata": {
    "slideshow": {
     "slide_type": "skip"
    }
   },
   "source": [
    "# Bivariate Exploration"
   ]
  },
  {
   "cell_type": "code",
   "execution_count": 52,
   "metadata": {
    "slideshow": {
     "slide_type": "slide"
    }
   },
   "outputs": [
    {
     "data": {
      "image/png": "[encoded data removed]",
      "text/plain": [
       "<Figure size 720x360 with 1 Axes>"
      ]
     },
     "metadata": {
      "needs_background": "light"
     },
     "output_type": "display_data"
    }
   ],
   "source": [
    "# Customers vs Subscribers Visuals\n",
    "# bar chart\n",
    "plt.figure(figsize = [10, 5])\n",
    "\n",
    "sb.countplot(data = df_cleaned, x = \"user_type\",order=df_cleaned.user_type.value_counts().index);\n",
    "plt.xlabel('User Type');\n",
    "plt.ylabel('Number of Bike Trips');\n",
    "plt.title('Ford GoBike System - Customers vs. Subscribers');"
   ]
  },
  {
   "cell_type": "markdown",
   "metadata": {
    "slideshow": {
     "slide_type": "skip"
    }
   },
   "source": [
    "**observation1**\n",
    "\n",
    "'Customer' bikers bike longer than 'Subscriber' bikers.\n"
   ]
  },
  {
   "cell_type": "code",
   "execution_count": 72,
   "metadata": {
    "slideshow": {
     "slide_type": "skip"
    }
   },
   "outputs": [
    {
     "data": {
      "image/png": "[encoded data removed]",
      "text/plain": [
       "<Figure size 720x360 with 2 Axes>"
      ]
     },
     "metadata": {
      "needs_background": "light"
     },
     "output_type": "display_data"
    }
   ],
   "source": [
    "#plt.figure(figsize = [12, 5])\n",
    "graph = sb.catplot(data=df_cleaned, x='start_month_char', col=\"user_type\", kind='count', sharey = True, color = base_color);\n",
    "\n",
    "graph.set_axis_labels(\"Month\", \"Number of Bike Trips\");\n",
    "graph.set_titles(\"{col_name}\");\n",
    "\n",
    "graph.fig.suptitle('Ford GoBike System - Customers vs. Subscribers', y=1.05, fontsize=16, fontweight='bold');\n",
    "graph.set_xticklabels(rotation=75);"
   ]
  },
  {
   "cell_type": "markdown",
   "metadata": {
    "slideshow": {
     "slide_type": "skip"
    }
   },
   "source": [
    "**Observation2**\n",
    " \n",
    " Winter months are the good for the bike sharing system for both groups what can be determined by the harsher weather.¶"
   ]
  },
  {
   "cell_type": "code",
   "execution_count": 55,
   "metadata": {
    "slideshow": {
     "slide_type": "slide"
    }
   },
   "outputs": [
    {
     "data": {
      "image/png": "[encoded data removed]",
      "text/plain": [
       "<Figure size 576x360 with 1 Axes>"
      ]
     },
     "metadata": {
      "needs_background": "light"
     },
     "output_type": "display_data"
    }
   ],
   "source": [
    "plt.figure(figsize=(8, 5))\n",
    "\n",
    "df_cleaned_user_week = df_cleaned.groupby(['start_time_weekday', 'user_type']).size().reset_index()\n",
    "weekday = ['Mon', 'Tue', 'Wed', 'Thu', 'Fri', 'Sat', 'Sun']\n",
    "\n",
    "ax = sb.pointplot(data=df_cleaned_user_week, x='start_time_weekday',y=0, hue = 'user_type', order = weekday);\n",
    "\n",
    "plt.title('Ford GoBike User Type')\n",
    "plt.xlabel('Weekdays')\n",
    "plt.ylabel('Number of Bike Trips');\n"
   ]
  },
  {
   "cell_type": "markdown",
   "metadata": {
    "slideshow": {
     "slide_type": "skip"
    }
   },
   "source": [
    "**observation3**\n",
    "\n",
    " The point plot sharp contrast between Customers and Subscribers"
   ]
  },
  {
   "cell_type": "markdown",
   "metadata": {
    "slideshow": {
     "slide_type": "skip"
    }
   },
   "source": [
    "# Multivariate plot"
   ]
  },
  {
   "cell_type": "code",
   "execution_count": 80,
   "metadata": {
    "slideshow": {
     "slide_type": "slide"
    }
   },
   "outputs": [
    {
     "data": {
      "image/png": "[encoded data removed]",
      "text/plain": [
       "<Figure size 432x288 with 1 Axes>"
      ]
     },
     "metadata": {
      "needs_background": "light"
     },
     "output_type": "display_data"
    }
   ],
   "source": [
    "sb.pointplot(data=df_cleaned, x='start_time_weekday', y='duration_min', hue='user_type');\n",
    "plt.xlabel('Day of Week');\n",
    "plt.ylabel('Avg. Trip Duration in Minute');"
   ]
  },
  {
   "cell_type": "markdown",
   "metadata": {
    "slideshow": {
     "slide_type": "skip"
    }
   },
   "source": [
    "**observation1**\n",
    "\n",
    "It can be seen from the above plot that subscribers ride much shorter/quicker trips compared to customers on each day of the week. "
   ]
  },
  {
   "cell_type": "code",
   "execution_count": 81,
   "metadata": {
    "slideshow": {
     "slide_type": "skip"
    }
   },
   "outputs": [
    {
     "data": {
      "text/plain": [
       "<Figure size 720x720 with 0 Axes>"
      ]
     },
     "metadata": {},
     "output_type": "display_data"
    },
    {
     "data": {
      "image/png": "[encoded data removed]",
      "text/plain": [
       "<Figure size 1759.61x360 with 2 Axes>"
      ]
     },
     "metadata": {
      "needs_background": "light"
     },
     "output_type": "display_data"
    }
   ],
   "source": [
    "plt.figure(figsize=[10,10])\n",
    "graph = sb.catplot(data=df_top5, x='start_month_char', col=\"user_type\", hue=\"start_station_name\", kind='count', sharey = False, height=5, aspect=2);\n",
    "\n",
    "graph.set_axis_labels(\"Month\", \"Number of Bike Trips\")\n",
    "graph._legend.set_title('start_station_name')\n",
    "graph.set_titles(\"{col_name}\")\n",
    "\n",
    "graph.fig.suptitle('Ford GoBike System - Monthly Usage Per User Type and start_station');\n",
    "graph.set_xticklabels(rotation=75);"
   ]
  },
  {
   "cell_type": "markdown",
   "metadata": {
    "slideshow": {
     "slide_type": "skip"
    }
   },
   "source": [
    "**observation2**\n",
    "\n",
    "After checking start and end stations, most stations in San Francisco connect to public transportations such as Caltrain"
   ]
  },
  {
   "cell_type": "code",
   "execution_count": 84,
   "metadata": {
    "slideshow": {
     "slide_type": "slide"
    }
   },
   "outputs": [
    {
     "data": {
      "image/png": "[encoded data removed]",
      "text/plain": [
       "<Figure size 576x432 with 1 Axes>"
      ]
     },
     "metadata": {
      "needs_background": "light"
     },
     "output_type": "display_data"
    }
   ],
   "source": [
    "fig = plt.figure(figsize = [8,6])\n",
    "ax = sb.pointplot(data =df_cleaned, x = 'start_time_weekday', y = 'duration_min', hue = 'user_type',\n",
    "           palette = 'Purples', linestyles = '', dodge = 0.3);\n",
    "plt.title('Biking durations for bikers who are younger than 40 years old across dayofweek and user type');\n",
    "plt.ylabel('Mean Duration (min)')\n",
    "plt.yscale('log');\n",
    "plt.yticks([1, 2, 5, 10, 20, 50, 100], [1, 2, 5, 10, 20, 50, 100]);\n",
    "ax.set_yticklabels([],minor = True);"
   ]
  },
  {
   "cell_type": "markdown",
   "metadata": {
    "slideshow": {
     "slide_type": "skip"
    }
   },
   "source": [
    "**observation3**\n",
    "\n",
    "'Customer' bikers bike longer than 'Subscriber' bikers.\n"
   ]
  },
  {
   "cell_type": "markdown",
   "metadata": {
    "slideshow": {
     "slide_type": "slide"
    }
   },
   "source": [
    "## Sources\n",
    "\n",
    ".[FordGoBike Data Set](https://s3.amazonaws.com/baywheels-data/index.html)dataset\n",
    "\n",
    "\n",
    ".[Matplotlib](https://matplotlib.org/)"
   ]
  }
 ],
 "metadata": {
  "celltoolbar": "Slideshow",
  "kernelspec": {
   "display_name": "Python 3",
   "language": "python",
   "name": "python3"
  },
  "language_info": {
   "codemirror_mode": {
    "name": "ipython",
    "version": 3
   },
   "file_extension": ".py",
   "mimetype": "text/x-python",
   "name": "python",
   "nbconvert_exporter": "python",
   "pygments_lexer": "ipython3",
   "version": "3.7.3"
  }
 },
 "nbformat": 4,
 "nbformat_minor": 4
}
